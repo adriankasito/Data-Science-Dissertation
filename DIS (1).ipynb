{
 "cells": [
  {
   "cell_type": "markdown",
   "id": "infectious-barrel",
   "metadata": {
    "papermill": {
     "duration": 0.045823,
     "end_time": "2021-07-29T13:57:20.990619",
     "exception": false,
     "start_time": "2021-07-29T13:57:20.944796",
     "status": "completed"
    },
    "tags": []
   },
   "source": [
    "# Time Series Analysis Maternal Complications-ARIMA Model"
   ]
  },
  {
   "cell_type": "markdown",
   "id": "divine-republican",
   "metadata": {
    "papermill": {
     "duration": 0.033742,
     "end_time": "2021-07-29T13:57:21.063583",
     "exception": false,
     "start_time": "2021-07-29T13:57:21.029841",
     "status": "completed"
    },
    "tags": []
   },
   "source": [
    "Due to the Covid-19 times in Uganda since 2020, Maternal health is reasoned as a complex and often vexing issue.  It is one of the most proactive and difficult bioethical discussions to date, challenging the obligations of society, policymakers, and health care professionals to expectant mothers and their unborn children. The COVID-19 pandemic has had a significant impact on maternal health globally, with disruptions to healthcare systems and social distancing measures making it more difficult for pregnant women to access necessary care.  In Uganda, the situation is particularly dire, with already-limited resources stretched even thinner by the pandemic. In this study, the author uses predictive analytics to identify risk factors for maternal complications in the COVID-19 era in Uganda."
   ]
  },
  {
   "cell_type": "markdown",
   "id": "bound-amplifier",
   "metadata": {
    "papermill": {
     "duration": 0.033712,
     "end_time": "2021-07-29T13:57:21.199213",
     "exception": false,
     "start_time": "2021-07-29T13:57:21.165501",
     "status": "completed"
    },
    "tags": []
   },
   "source": [
    "## Importing Libraries"
   ]
  },
  {
   "cell_type": "code",
   "execution_count": 148,
   "id": "beginning-republican",
   "metadata": {
    "execution": {
     "iopub.execute_input": "2021-07-29T13:57:21.273967Z",
     "iopub.status.busy": "2021-07-29T13:57:21.272171Z",
     "iopub.status.idle": "2021-07-29T13:57:21.290919Z",
     "shell.execute_reply": "2021-07-29T13:57:21.290085Z",
     "shell.execute_reply.started": "2021-07-29T13:21:37.211718Z"
    },
    "papermill": {
     "duration": 0.058025,
     "end_time": "2021-07-29T13:57:21.291098",
     "exception": false,
     "start_time": "2021-07-29T13:57:21.233073",
     "status": "completed"
    },
    "tags": []
   },
   "outputs": [],
   "source": [
    "import pandas as pd\n",
    "import numpy as np\n",
    "import matplotlib.pyplot as plt\n",
    "%matplotlib inline\n",
    "\n",
    "from matplotlib.pylab import rcParams\n",
    "rcParams['figure.figsize'] = 14,7\n",
    "\n",
    "import warnings\n",
    "warnings.filterwarnings('ignore')"
   ]
  },
  {
   "cell_type": "markdown",
   "id": "appreciated-carrier",
   "metadata": {
    "papermill": {
     "duration": 0.034967,
     "end_time": "2021-07-29T13:57:21.361434",
     "exception": false,
     "start_time": "2021-07-29T13:57:21.326467",
     "status": "completed"
    },
    "tags": []
   },
   "source": [
    "## Reading dataset"
   ]
  },
  {
   "cell_type": "code",
   "execution_count": 149,
   "id": "30513a2e",
   "metadata": {},
   "outputs": [
    {
     "data": {
      "text/html": [
       "<div>\n",
       "<style scoped>\n",
       "    .dataframe tbody tr th:only-of-type {\n",
       "        vertical-align: middle;\n",
       "    }\n",
       "\n",
       "    .dataframe tbody tr th {\n",
       "        vertical-align: top;\n",
       "    }\n",
       "\n",
       "    .dataframe thead th {\n",
       "        text-align: right;\n",
       "    }\n",
       "</style>\n",
       "<table border=\"1\" class=\"dataframe\">\n",
       "  <thead>\n",
       "    <tr style=\"text-align: right;\">\n",
       "      <th></th>\n",
       "      <th>month</th>\n",
       "      <th>deaths</th>\n",
       "    </tr>\n",
       "  </thead>\n",
       "  <tbody>\n",
       "    <tr>\n",
       "      <th>0</th>\n",
       "      <td>2021-01-01</td>\n",
       "      <td>64</td>\n",
       "    </tr>\n",
       "    <tr>\n",
       "      <th>2</th>\n",
       "      <td>2021-02-01</td>\n",
       "      <td>62</td>\n",
       "    </tr>\n",
       "    <tr>\n",
       "      <th>4</th>\n",
       "      <td>2021-03-01</td>\n",
       "      <td>79</td>\n",
       "    </tr>\n",
       "    <tr>\n",
       "      <th>6</th>\n",
       "      <td>2021-04-01</td>\n",
       "      <td>78</td>\n",
       "    </tr>\n",
       "  </tbody>\n",
       "</table>\n",
       "</div>"
      ],
      "text/plain": [
       "        month  deaths\n",
       "0  2021-01-01      64\n",
       "2  2021-02-01      62\n",
       "4  2021-03-01      79\n",
       "6  2021-04-01      78"
      ]
     },
     "execution_count": 149,
     "metadata": {},
     "output_type": "execute_result"
    }
   ],
   "source": [
    "data = pd.read_csv('merged_data_month.csv')\n",
    "data = data.loc[:, ['month', 'deaths']]\n",
    "data = data.sort_values(by='month')\n",
    "data.head(4)"
   ]
  },
  {
   "cell_type": "code",
   "execution_count": 150,
   "id": "8ca570f8",
   "metadata": {},
   "outputs": [],
   "source": [
    "#parse strings to datetime type\n",
    "data['month']=pd.to_datetime(data['month'], infer_datetime_format=True)\n",
    "\n",
    "# set Date column as index\n",
    "data = data.set_index('month')"
   ]
  },
  {
   "cell_type": "code",
   "execution_count": 151,
   "id": "natural-tsunami",
   "metadata": {
    "execution": {
     "iopub.execute_input": "2021-07-29T13:57:21.620982Z",
     "iopub.status.busy": "2021-07-29T13:57:21.620025Z",
     "iopub.status.idle": "2021-07-29T13:57:21.640936Z",
     "shell.execute_reply": "2021-07-29T13:57:21.640382Z",
     "shell.execute_reply.started": "2021-07-29T13:22:39.952214Z"
    },
    "papermill": {
     "duration": 0.057832,
     "end_time": "2021-07-29T13:57:21.641083",
     "exception": false,
     "start_time": "2021-07-29T13:57:21.583251",
     "status": "completed"
    },
    "tags": []
   },
   "outputs": [
    {
     "data": {
      "text/html": [
       "<div>\n",
       "<style scoped>\n",
       "    .dataframe tbody tr th:only-of-type {\n",
       "        vertical-align: middle;\n",
       "    }\n",
       "\n",
       "    .dataframe tbody tr th {\n",
       "        vertical-align: top;\n",
       "    }\n",
       "\n",
       "    .dataframe thead th {\n",
       "        text-align: right;\n",
       "    }\n",
       "</style>\n",
       "<table border=\"1\" class=\"dataframe\">\n",
       "  <thead>\n",
       "    <tr style=\"text-align: right;\">\n",
       "      <th></th>\n",
       "      <th>deaths</th>\n",
       "    </tr>\n",
       "    <tr>\n",
       "      <th>month</th>\n",
       "      <th></th>\n",
       "    </tr>\n",
       "  </thead>\n",
       "  <tbody>\n",
       "    <tr>\n",
       "      <th>2021-01-01</th>\n",
       "      <td>64</td>\n",
       "    </tr>\n",
       "    <tr>\n",
       "      <th>2021-02-01</th>\n",
       "      <td>62</td>\n",
       "    </tr>\n",
       "    <tr>\n",
       "      <th>2021-03-01</th>\n",
       "      <td>79</td>\n",
       "    </tr>\n",
       "    <tr>\n",
       "      <th>2021-04-01</th>\n",
       "      <td>78</td>\n",
       "    </tr>\n",
       "    <tr>\n",
       "      <th>2021-05-01</th>\n",
       "      <td>84</td>\n",
       "    </tr>\n",
       "  </tbody>\n",
       "</table>\n",
       "</div>"
      ],
      "text/plain": [
       "            deaths\n",
       "month             \n",
       "2021-01-01      64\n",
       "2021-02-01      62\n",
       "2021-03-01      79\n",
       "2021-04-01      78\n",
       "2021-05-01      84"
      ]
     },
     "execution_count": 151,
     "metadata": {},
     "output_type": "execute_result"
    }
   ],
   "source": [
    "# first five rows of dataframe\n",
    "data.head()"
   ]
  },
  {
   "cell_type": "code",
   "execution_count": 152,
   "id": "forced-grounds",
   "metadata": {
    "execution": {
     "iopub.execute_input": "2021-07-29T13:57:21.720081Z",
     "iopub.status.busy": "2021-07-29T13:57:21.719281Z",
     "iopub.status.idle": "2021-07-29T13:57:21.722650Z",
     "shell.execute_reply": "2021-07-29T13:57:21.723183Z",
     "shell.execute_reply.started": "2021-07-29T13:22:41.261875Z"
    },
    "papermill": {
     "duration": 0.047375,
     "end_time": "2021-07-29T13:57:21.723381",
     "exception": false,
     "start_time": "2021-07-29T13:57:21.676006",
     "status": "completed"
    },
    "tags": []
   },
   "outputs": [
    {
     "data": {
      "text/html": [
       "<div>\n",
       "<style scoped>\n",
       "    .dataframe tbody tr th:only-of-type {\n",
       "        vertical-align: middle;\n",
       "    }\n",
       "\n",
       "    .dataframe tbody tr th {\n",
       "        vertical-align: top;\n",
       "    }\n",
       "\n",
       "    .dataframe thead th {\n",
       "        text-align: right;\n",
       "    }\n",
       "</style>\n",
       "<table border=\"1\" class=\"dataframe\">\n",
       "  <thead>\n",
       "    <tr style=\"text-align: right;\">\n",
       "      <th></th>\n",
       "      <th>deaths</th>\n",
       "    </tr>\n",
       "    <tr>\n",
       "      <th>month</th>\n",
       "      <th></th>\n",
       "    </tr>\n",
       "  </thead>\n",
       "  <tbody>\n",
       "    <tr>\n",
       "      <th>2022-08-01</th>\n",
       "      <td>117</td>\n",
       "    </tr>\n",
       "    <tr>\n",
       "      <th>2022-09-01</th>\n",
       "      <td>83</td>\n",
       "    </tr>\n",
       "    <tr>\n",
       "      <th>2022-10-01</th>\n",
       "      <td>99</td>\n",
       "    </tr>\n",
       "    <tr>\n",
       "      <th>2022-11-01</th>\n",
       "      <td>87</td>\n",
       "    </tr>\n",
       "    <tr>\n",
       "      <th>2022-12-01</th>\n",
       "      <td>101</td>\n",
       "    </tr>\n",
       "  </tbody>\n",
       "</table>\n",
       "</div>"
      ],
      "text/plain": [
       "            deaths\n",
       "month             \n",
       "2022-08-01     117\n",
       "2022-09-01      83\n",
       "2022-10-01      99\n",
       "2022-11-01      87\n",
       "2022-12-01     101"
      ]
     },
     "execution_count": 152,
     "metadata": {},
     "output_type": "execute_result"
    }
   ],
   "source": [
    "# last 5 rows of dataframe\n",
    "data.tail()"
   ]
  },
  {
   "cell_type": "markdown",
   "id": "interesting-malta",
   "metadata": {
    "papermill": {
     "duration": 0.035575,
     "end_time": "2021-07-29T13:57:21.794528",
     "exception": false,
     "start_time": "2021-07-29T13:57:21.758953",
     "status": "completed"
    },
    "tags": []
   },
   "source": [
    "## Exploratory Data Analysis"
   ]
  },
  {
   "cell_type": "code",
   "execution_count": 153,
   "id": "minor-picnic",
   "metadata": {
    "execution": {
     "iopub.execute_input": "2021-07-29T13:57:21.871281Z",
     "iopub.status.busy": "2021-07-29T13:57:21.870569Z",
     "iopub.status.idle": "2021-07-29T13:57:21.875297Z",
     "shell.execute_reply": "2021-07-29T13:57:21.875799Z",
     "shell.execute_reply.started": "2021-07-29T13:22:44.331721Z"
    },
    "papermill": {
     "duration": 0.045978,
     "end_time": "2021-07-29T13:57:21.876084",
     "exception": false,
     "start_time": "2021-07-29T13:57:21.830106",
     "status": "completed"
    },
    "scrolled": true,
    "tags": []
   },
   "outputs": [
    {
     "data": {
      "text/plain": [
       "Index(['deaths'], dtype='object')"
      ]
     },
     "execution_count": 153,
     "metadata": {},
     "output_type": "execute_result"
    }
   ],
   "source": [
    "# column names\n",
    "data.columns"
   ]
  },
  {
   "cell_type": "code",
   "execution_count": 154,
   "id": "nervous-suspension",
   "metadata": {
    "execution": {
     "iopub.execute_input": "2021-07-29T13:57:21.952405Z",
     "iopub.status.busy": "2021-07-29T13:57:21.951719Z",
     "iopub.status.idle": "2021-07-29T13:57:21.957246Z",
     "shell.execute_reply": "2021-07-29T13:57:21.957841Z",
     "shell.execute_reply.started": "2021-07-29T13:22:44.371994Z"
    },
    "papermill": {
     "duration": 0.046295,
     "end_time": "2021-07-29T13:57:21.958058",
     "exception": false,
     "start_time": "2021-07-29T13:57:21.911763",
     "status": "completed"
    },
    "tags": []
   },
   "outputs": [
    {
     "data": {
      "text/plain": [
       "(24, 1)"
      ]
     },
     "execution_count": 154,
     "metadata": {},
     "output_type": "execute_result"
    }
   ],
   "source": [
    "# shape of the dataframe\n",
    "data.shape"
   ]
  },
  {
   "cell_type": "code",
   "execution_count": 155,
   "id": "adapted-seeking",
   "metadata": {
    "execution": {
     "iopub.execute_input": "2021-07-29T13:57:22.035686Z",
     "iopub.status.busy": "2021-07-29T13:57:22.035061Z",
     "iopub.status.idle": "2021-07-29T13:57:22.053258Z",
     "shell.execute_reply": "2021-07-29T13:57:22.053890Z",
     "shell.execute_reply.started": "2021-07-29T13:50:27.878845Z"
    },
    "papermill": {
     "duration": 0.059915,
     "end_time": "2021-07-29T13:57:22.054074",
     "exception": false,
     "start_time": "2021-07-29T13:57:21.994159",
     "status": "completed"
    },
    "tags": []
   },
   "outputs": [
    {
     "name": "stdout",
     "output_type": "stream",
     "text": [
      "<class 'pandas.core.frame.DataFrame'>\n",
      "DatetimeIndex: 24 entries, 2021-01-01 to 2022-12-01\n",
      "Data columns (total 1 columns):\n",
      " #   Column  Non-Null Count  Dtype\n",
      "---  ------  --------------  -----\n",
      " 0   deaths  24 non-null     int64\n",
      "dtypes: int64(1)\n",
      "memory usage: 384.0 bytes\n"
     ]
    }
   ],
   "source": [
    "# concise summary of dataframe\n",
    "data.info()"
   ]
  },
  {
   "cell_type": "code",
   "execution_count": 156,
   "id": "falling-horizontal",
   "metadata": {
    "execution": {
     "iopub.execute_input": "2021-07-29T13:57:22.134839Z",
     "iopub.status.busy": "2021-07-29T13:57:22.134183Z",
     "iopub.status.idle": "2021-07-29T13:57:22.138565Z",
     "shell.execute_reply": "2021-07-29T13:57:22.137942Z",
     "shell.execute_reply.started": "2021-07-29T13:51:49.951930Z"
    },
    "papermill": {
     "duration": 0.048824,
     "end_time": "2021-07-29T13:57:22.138698",
     "exception": false,
     "start_time": "2021-07-29T13:57:22.089874",
     "status": "completed"
    },
    "tags": []
   },
   "outputs": [
    {
     "data": {
      "text/plain": [
       "deaths    0\n",
       "dtype: int64"
      ]
     },
     "execution_count": 156,
     "metadata": {},
     "output_type": "execute_result"
    }
   ],
   "source": [
    "# checking for null values\n",
    "data.isnull().sum()"
   ]
  },
  {
   "cell_type": "code",
   "execution_count": 157,
   "id": "mental-license",
   "metadata": {
    "execution": {
     "iopub.execute_input": "2021-07-29T13:57:22.220876Z",
     "iopub.status.busy": "2021-07-29T13:57:22.217936Z",
     "iopub.status.idle": "2021-07-29T13:57:22.235082Z",
     "shell.execute_reply": "2021-07-29T13:57:22.235665Z",
     "shell.execute_reply.started": "2021-07-29T13:51:13.942668Z"
    },
    "papermill": {
     "duration": 0.060946,
     "end_time": "2021-07-29T13:57:22.235858",
     "exception": false,
     "start_time": "2021-07-29T13:57:22.174912",
     "status": "completed"
    },
    "tags": []
   },
   "outputs": [
    {
     "data": {
      "text/html": [
       "<div>\n",
       "<style scoped>\n",
       "    .dataframe tbody tr th:only-of-type {\n",
       "        vertical-align: middle;\n",
       "    }\n",
       "\n",
       "    .dataframe tbody tr th {\n",
       "        vertical-align: top;\n",
       "    }\n",
       "\n",
       "    .dataframe thead th {\n",
       "        text-align: right;\n",
       "    }\n",
       "</style>\n",
       "<table border=\"1\" class=\"dataframe\">\n",
       "  <thead>\n",
       "    <tr style=\"text-align: right;\">\n",
       "      <th></th>\n",
       "      <th>deaths</th>\n",
       "    </tr>\n",
       "  </thead>\n",
       "  <tbody>\n",
       "    <tr>\n",
       "      <th>count</th>\n",
       "      <td>24.000000</td>\n",
       "    </tr>\n",
       "    <tr>\n",
       "      <th>mean</th>\n",
       "      <td>84.625000</td>\n",
       "    </tr>\n",
       "    <tr>\n",
       "      <th>std</th>\n",
       "      <td>13.544813</td>\n",
       "    </tr>\n",
       "    <tr>\n",
       "      <th>min</th>\n",
       "      <td>62.000000</td>\n",
       "    </tr>\n",
       "    <tr>\n",
       "      <th>25%</th>\n",
       "      <td>77.000000</td>\n",
       "    </tr>\n",
       "    <tr>\n",
       "      <th>50%</th>\n",
       "      <td>83.500000</td>\n",
       "    </tr>\n",
       "    <tr>\n",
       "      <th>75%</th>\n",
       "      <td>89.500000</td>\n",
       "    </tr>\n",
       "    <tr>\n",
       "      <th>max</th>\n",
       "      <td>117.000000</td>\n",
       "    </tr>\n",
       "  </tbody>\n",
       "</table>\n",
       "</div>"
      ],
      "text/plain": [
       "           deaths\n",
       "count   24.000000\n",
       "mean    84.625000\n",
       "std     13.544813\n",
       "min     62.000000\n",
       "25%     77.000000\n",
       "50%     83.500000\n",
       "75%     89.500000\n",
       "max    117.000000"
      ]
     },
     "execution_count": 157,
     "metadata": {},
     "output_type": "execute_result"
    }
   ],
   "source": [
    "# descriptive statistics of data\n",
    "data.describe()"
   ]
  },
  {
   "cell_type": "code",
   "execution_count": 158,
   "id": "super-certification",
   "metadata": {
    "execution": {
     "iopub.execute_input": "2021-07-29T13:57:22.315710Z",
     "iopub.status.busy": "2021-07-29T13:57:22.315054Z",
     "iopub.status.idle": "2021-07-29T13:57:22.586307Z",
     "shell.execute_reply": "2021-07-29T13:57:22.586796Z",
     "shell.execute_reply.started": "2021-07-29T13:22:45.332023Z"
    },
    "papermill": {
     "duration": 0.313215,
     "end_time": "2021-07-29T13:57:22.586982",
     "exception": false,
     "start_time": "2021-07-29T13:57:22.273767",
     "status": "completed"
    },
    "tags": []
   },
   "outputs": [
    {
     "data": {
      "text/plain": [
       "[<matplotlib.lines.Line2D at 0x7fd2514d3700>]"
      ]
     },
     "execution_count": 158,
     "metadata": {},
     "output_type": "execute_result"
    },
    {
     "data": {
      "image/png": "[encoded data removed]",
      "text/plain": [
       "<Figure size 1400x700 with 1 Axes>"
      ]
     },
     "metadata": {},
     "output_type": "display_data"
    }
   ],
   "source": [
    "# plot graph\n",
    "plt.style.use('ggplot')\n",
    "plt.ylabel('Maternal Deaths', fontsize=14, fontfamily='serif')\n",
    "plt.xlabel('Period', fontsize=14, fontfamily='serif')\n",
    "plt.xticks(rotation=45)\n",
    "plt.title('Date [month & year] vs Maternal Deaths',fontsize=16, fontweight='bold', fontfamily='sans-serif')\n",
    "plt.annotate('Annotate', xy=(3, 9), xytext=(4, 16), fontsize=12,\n",
    "             arrowprops=dict(facecolor='black', arrowstyle='->'))\n",
    "plt.tight_layout()\n",
    "plt.plot(data, color='magenta')"
   ]
  },
  {
   "cell_type": "code",
   "execution_count": 159,
   "id": "b404931c",
   "metadata": {},
   "outputs": [],
   "source": [
    "# split data into training and testing sets\n",
    "train_data = data.iloc[:len(data)-6]\n",
    "test_data = data.iloc[len(data)-6:]"
   ]
  },
  {
   "cell_type": "code",
   "execution_count": 160,
   "id": "fbcf8b09",
   "metadata": {},
   "outputs": [
    {
     "data": {
      "text/html": [
       "<div>\n",
       "<style scoped>\n",
       "    .dataframe tbody tr th:only-of-type {\n",
       "        vertical-align: middle;\n",
       "    }\n",
       "\n",
       "    .dataframe tbody tr th {\n",
       "        vertical-align: top;\n",
       "    }\n",
       "\n",
       "    .dataframe thead th {\n",
       "        text-align: right;\n",
       "    }\n",
       "</style>\n",
       "<table border=\"1\" class=\"dataframe\">\n",
       "  <thead>\n",
       "    <tr style=\"text-align: right;\">\n",
       "      <th></th>\n",
       "      <th>deaths</th>\n",
       "    </tr>\n",
       "    <tr>\n",
       "      <th>month</th>\n",
       "      <th></th>\n",
       "    </tr>\n",
       "  </thead>\n",
       "  <tbody>\n",
       "    <tr>\n",
       "      <th>2022-07-01</th>\n",
       "      <td>86</td>\n",
       "    </tr>\n",
       "    <tr>\n",
       "      <th>2022-08-01</th>\n",
       "      <td>117</td>\n",
       "    </tr>\n",
       "    <tr>\n",
       "      <th>2022-09-01</th>\n",
       "      <td>83</td>\n",
       "    </tr>\n",
       "    <tr>\n",
       "      <th>2022-10-01</th>\n",
       "      <td>99</td>\n",
       "    </tr>\n",
       "    <tr>\n",
       "      <th>2022-11-01</th>\n",
       "      <td>87</td>\n",
       "    </tr>\n",
       "    <tr>\n",
       "      <th>2022-12-01</th>\n",
       "      <td>101</td>\n",
       "    </tr>\n",
       "  </tbody>\n",
       "</table>\n",
       "</div>"
      ],
      "text/plain": [
       "            deaths\n",
       "month             \n",
       "2022-07-01      86\n",
       "2022-08-01     117\n",
       "2022-09-01      83\n",
       "2022-10-01      99\n",
       "2022-11-01      87\n",
       "2022-12-01     101"
      ]
     },
     "execution_count": 160,
     "metadata": {},
     "output_type": "execute_result"
    }
   ],
   "source": [
    "test_data"
   ]
  },
  {
   "cell_type": "markdown",
   "id": "royal-sustainability",
   "metadata": {
    "papermill": {
     "duration": 0.038813,
     "end_time": "2021-07-29T13:57:22.664590",
     "exception": false,
     "start_time": "2021-07-29T13:57:22.625777",
     "status": "completed"
    },
    "tags": []
   },
   "source": [
    "## Determining Rolling Statistics"
   ]
  },
  {
   "cell_type": "code",
   "execution_count": 161,
   "id": "amended-apollo",
   "metadata": {
    "execution": {
     "iopub.execute_input": "2021-07-29T13:57:22.749691Z",
     "iopub.status.busy": "2021-07-29T13:57:22.748084Z",
     "iopub.status.idle": "2021-07-29T13:57:22.760393Z",
     "shell.execute_reply": "2021-07-29T13:57:22.759701Z",
     "shell.execute_reply.started": "2021-07-29T13:22:48.912051Z"
    },
    "papermill": {
     "duration": 0.05706,
     "end_time": "2021-07-29T13:57:22.760550",
     "exception": false,
     "start_time": "2021-07-29T13:57:22.703490",
     "status": "completed"
    },
    "tags": []
   },
   "outputs": [
    {
     "data": {
      "text/html": [
       "<div>\n",
       "<style scoped>\n",
       "    .dataframe tbody tr th:only-of-type {\n",
       "        vertical-align: middle;\n",
       "    }\n",
       "\n",
       "    .dataframe tbody tr th {\n",
       "        vertical-align: top;\n",
       "    }\n",
       "\n",
       "    .dataframe thead th {\n",
       "        text-align: right;\n",
       "    }\n",
       "</style>\n",
       "<table border=\"1\" class=\"dataframe\">\n",
       "  <thead>\n",
       "    <tr style=\"text-align: right;\">\n",
       "      <th></th>\n",
       "      <th>deaths</th>\n",
       "    </tr>\n",
       "    <tr>\n",
       "      <th>month</th>\n",
       "      <th></th>\n",
       "    </tr>\n",
       "  </thead>\n",
       "  <tbody>\n",
       "    <tr>\n",
       "      <th>2021-01-01</th>\n",
       "      <td>NaN</td>\n",
       "    </tr>\n",
       "    <tr>\n",
       "      <th>2021-02-01</th>\n",
       "      <td>NaN</td>\n",
       "    </tr>\n",
       "    <tr>\n",
       "      <th>2021-03-01</th>\n",
       "      <td>68.333333</td>\n",
       "    </tr>\n",
       "    <tr>\n",
       "      <th>2021-04-01</th>\n",
       "      <td>73.000000</td>\n",
       "    </tr>\n",
       "    <tr>\n",
       "      <th>2021-05-01</th>\n",
       "      <td>80.333333</td>\n",
       "    </tr>\n",
       "  </tbody>\n",
       "</table>\n",
       "</div>"
      ],
      "text/plain": [
       "               deaths\n",
       "month                \n",
       "2021-01-01        NaN\n",
       "2021-02-01        NaN\n",
       "2021-03-01  68.333333\n",
       "2021-04-01  73.000000\n",
       "2021-05-01  80.333333"
      ]
     },
     "execution_count": 161,
     "metadata": {},
     "output_type": "execute_result"
    }
   ],
   "source": [
    "# rolling mean\n",
    "rolmean = train_data.rolling(window=3).mean()\n",
    "rolmean.head()"
   ]
  },
  {
   "cell_type": "code",
   "execution_count": 162,
   "id": "later-solid",
   "metadata": {
    "execution": {
     "iopub.execute_input": "2021-07-29T13:57:22.845080Z",
     "iopub.status.busy": "2021-07-29T13:57:22.844378Z",
     "iopub.status.idle": "2021-07-29T13:57:22.856249Z",
     "shell.execute_reply": "2021-07-29T13:57:22.855679Z",
     "shell.execute_reply.started": "2021-07-29T13:22:49.741984Z"
    },
    "papermill": {
     "duration": 0.055534,
     "end_time": "2021-07-29T13:57:22.856412",
     "exception": false,
     "start_time": "2021-07-29T13:57:22.800878",
     "status": "completed"
    },
    "tags": []
   },
   "outputs": [
    {
     "data": {
      "text/html": [
       "<div>\n",
       "<style scoped>\n",
       "    .dataframe tbody tr th:only-of-type {\n",
       "        vertical-align: middle;\n",
       "    }\n",
       "\n",
       "    .dataframe tbody tr th {\n",
       "        vertical-align: top;\n",
       "    }\n",
       "\n",
       "    .dataframe thead th {\n",
       "        text-align: right;\n",
       "    }\n",
       "</style>\n",
       "<table border=\"1\" class=\"dataframe\">\n",
       "  <thead>\n",
       "    <tr style=\"text-align: right;\">\n",
       "      <th></th>\n",
       "      <th>deaths</th>\n",
       "    </tr>\n",
       "    <tr>\n",
       "      <th>month</th>\n",
       "      <th></th>\n",
       "    </tr>\n",
       "  </thead>\n",
       "  <tbody>\n",
       "    <tr>\n",
       "      <th>2021-01-01</th>\n",
       "      <td>NaN</td>\n",
       "    </tr>\n",
       "    <tr>\n",
       "      <th>2021-02-01</th>\n",
       "      <td>NaN</td>\n",
       "    </tr>\n",
       "    <tr>\n",
       "      <th>2021-03-01</th>\n",
       "      <td>9.291573</td>\n",
       "    </tr>\n",
       "    <tr>\n",
       "      <th>2021-04-01</th>\n",
       "      <td>9.539392</td>\n",
       "    </tr>\n",
       "    <tr>\n",
       "      <th>2021-05-01</th>\n",
       "      <td>3.214550</td>\n",
       "    </tr>\n",
       "  </tbody>\n",
       "</table>\n",
       "</div>"
      ],
      "text/plain": [
       "              deaths\n",
       "month               \n",
       "2021-01-01       NaN\n",
       "2021-02-01       NaN\n",
       "2021-03-01  9.291573\n",
       "2021-04-01  9.539392\n",
       "2021-05-01  3.214550"
      ]
     },
     "execution_count": 162,
     "metadata": {},
     "output_type": "execute_result"
    }
   ],
   "source": [
    "# rolling standard deviation\n",
    "rolstd = train_data.rolling(window=3).std()\n",
    "rolstd.head()"
   ]
  },
  {
   "cell_type": "markdown",
   "id": "wrong-salvation",
   "metadata": {
    "papermill": {
     "duration": 0.041955,
     "end_time": "2021-07-29T13:57:23.291556",
     "exception": false,
     "start_time": "2021-07-29T13:57:23.249601",
     "status": "completed"
    },
    "tags": []
   },
   "source": [
    "## Dickey-Fuller Test"
   ]
  },
  {
   "cell_type": "code",
   "execution_count": 163,
   "id": "former-enough",
   "metadata": {
    "execution": {
     "iopub.execute_input": "2021-07-29T13:57:23.382952Z",
     "iopub.status.busy": "2021-07-29T13:57:23.381994Z",
     "iopub.status.idle": "2021-07-29T13:57:24.540623Z",
     "shell.execute_reply": "2021-07-29T13:57:24.542231Z",
     "shell.execute_reply.started": "2021-07-29T13:22:56.091830Z"
    },
    "papermill": {
     "duration": 1.206465,
     "end_time": "2021-07-29T13:57:24.542721",
     "exception": false,
     "start_time": "2021-07-29T13:57:23.336256",
     "status": "completed"
    },
    "scrolled": true,
    "tags": []
   },
   "outputs": [],
   "source": [
    "# perform Dickey-Fuller test\n",
    "from statsmodels.tsa.stattools import adfuller"
   ]
  },
  {
   "cell_type": "code",
   "execution_count": 164,
   "id": "young-employment",
   "metadata": {
    "execution": {
     "iopub.execute_input": "2021-07-29T13:57:24.685084Z",
     "iopub.status.busy": "2021-07-29T13:57:24.684339Z",
     "iopub.status.idle": "2021-07-29T13:57:24.687352Z",
     "shell.execute_reply": "2021-07-29T13:57:24.686792Z",
     "shell.execute_reply.started": "2021-07-29T13:22:59.501688Z"
    },
    "papermill": {
     "duration": 0.067641,
     "end_time": "2021-07-29T13:57:24.687507",
     "exception": false,
     "start_time": "2021-07-29T13:57:24.619866",
     "status": "completed"
    },
    "tags": []
   },
   "outputs": [],
   "source": [
    "# Wrapping visual and statistical tools in a single function\n",
    "\n",
    "def test_stationarity(timeseries):\n",
    "    \n",
    "    # Determining rolling statistics\n",
    "    rolmean = timeseries.rolling(window=3).mean()\n",
    "    rolstd = timeseries.rolling(window=3).std()\n",
    "    \n",
    "    # Plot rolling statistics\n",
    "    org = plt.plot(timeseries, color='b', label='Original')\n",
    "    mean = plt.plot(rolmean, color='r', label='Rolling Mean')\n",
    "    std = plt.plot(rolstd, color='black', label='Rolling Std')\n",
    "    plt.style.use('ggplot')\n",
    "    plt.legend(loc='best')\n",
    "    plt.ylabel('Maternal Deaths', fontsize=14, fontfamily='serif')\n",
    "    plt.xlabel('Period', fontsize=14, fontfamily='serif')\n",
    "    plt.xticks(rotation=45)\n",
    "    plt.title('Rolling Mean & Standard Deviation',fontsize=16, fontweight='bold', fontfamily='sans-serif')\n",
    "    plt.annotate('Annotate', xy=(3, 9), xytext=(4, 16), fontsize=12,\n",
    "             arrowprops=dict(facecolor='black', arrowstyle='->'))\n",
    "    plt.tight_layout()\n",
    "    plt.show(block=False)\n",
    "    \n",
    "    # perform Dickey-Fuller test\n",
    "    print('Results of Dickey-Fuller Test')\n",
    "    dftest = adfuller(timeseries.deaths, autolag='AIC')\n",
    "    dfoutput = pd.Series(dftest[0:4], index=['Test Statistic','p value','#Lags used', 'No:of observations found'])\n",
    "    for key, value in dftest[4].items():\n",
    "        dfoutput['Critical Value (%s)'%key] = value    \n",
    "    print(dfoutput)"
   ]
  },
  {
   "cell_type": "markdown",
   "id": "317293ee",
   "metadata": {},
   "source": [
    "Also, a given time series is thought to consist of three systematic components including level, trend, seasonality, and one non-systematic component called noise.\n",
    "\n",
    "These components are defined as follows:\n",
    "\n",
    "Level: The average value in the series.\n",
    "\n",
    "Trend: The increasing or decreasing value in the series.\n",
    "\n",
    "Seasonality: The repeating short-term cycle in the series.\n",
    "\n",
    "Noise: The random variation in the series.\n",
    "\n",
    "First, we need to check if a series is stationary or not because time series analysis only works with stationary data.\n",
    "\n",
    "ADF (Augmented Dickey-Fuller) Test\n",
    "\n",
    "The Dickey-Fuller test is one of the most popular statistical tests. It can be used to determine the presence of unit root in the series, and hence help us understand if the series is stationary or not. The null and alternate hypothesis of this test is:\n",
    "\n",
    "Null Hypothesis: The series has a unit root (value of a =1)\n",
    "\n",
    "Alternate Hypothesis: The series has no unit root.\n",
    "\n",
    "If we fail to reject the null hypothesis, we can say that the series is non-stationary. This means that the series can be linear or difference stationary.\n",
    "\n",
    "If both mean and standard deviation are flat lines(constant mean and constant variance), the series becomes stationary.\n",
    "\n",
    "**So let's check for stationarity:"
   ]
  },
  {
   "cell_type": "code",
   "execution_count": 165,
   "id": "automatic-sport",
   "metadata": {
    "execution": {
     "iopub.execute_input": "2021-07-29T13:57:24.782538Z",
     "iopub.status.busy": "2021-07-29T13:57:24.781256Z",
     "iopub.status.idle": "2021-07-29T13:57:25.069559Z",
     "shell.execute_reply": "2021-07-29T13:57:25.070472Z",
     "shell.execute_reply.started": "2021-07-29T13:22:59.962408Z"
    },
    "papermill": {
     "duration": 0.340091,
     "end_time": "2021-07-29T13:57:25.070780",
     "exception": false,
     "start_time": "2021-07-29T13:57:24.730689",
     "status": "completed"
    },
    "tags": []
   },
   "outputs": [
    {
     "data": {
      "image/png": "[encoded data removed]",
      "text/plain": [
       "<Figure size 1400x700 with 1 Axes>"
      ]
     },
     "metadata": {},
     "output_type": "display_data"
    },
    {
     "name": "stdout",
     "output_type": "stream",
     "text": [
      "Results of Dickey-Fuller Test\n",
      "Test Statistic              -4.301439\n",
      "p value                      0.000442\n",
      "#Lags used                   7.000000\n",
      "No:of observations found    10.000000\n",
      "Critical Value (1%)         -4.331573\n",
      "Critical Value (5%)         -3.232950\n",
      "Critical Value (10%)        -2.748700\n",
      "dtype: float64\n"
     ]
    }
   ],
   "source": [
    "test_stationarity(train_data)"
   ]
  },
  {
   "cell_type": "markdown",
   "id": "004c5fb9",
   "metadata": {},
   "source": [
    "Through the above graph, we can see the decreasing mean and standard deviation and hence our series is stationary.\n",
    "\n",
    "We see that the p-value is less than 0.05 so we reject the Null hypothesis. \n"
   ]
  },
  {
   "cell_type": "markdown",
   "id": "qualified-curve",
   "metadata": {
    "papermill": {
     "duration": 0.045932,
     "end_time": "2021-07-29T13:57:25.397699",
     "exception": false,
     "start_time": "2021-07-29T13:57:25.351767",
     "status": "completed"
    },
    "tags": []
   },
   "source": [
    "#### Differencing simple moving average"
   ]
  },
  {
   "cell_type": "code",
   "execution_count": 166,
   "id": "c5a53fab",
   "metadata": {},
   "outputs": [],
   "source": [
    "# Endog ; split data into training and testing sets\n",
    "train_data_endog = data.iloc[:len(data)-6]\n",
    "test_data_endog = data.iloc[len(data)-8:]"
   ]
  },
  {
   "cell_type": "code",
   "execution_count": 167,
   "id": "9cc7f513",
   "metadata": {},
   "outputs": [
    {
     "data": {
      "text/html": [
       "<div>\n",
       "<style scoped>\n",
       "    .dataframe tbody tr th:only-of-type {\n",
       "        vertical-align: middle;\n",
       "    }\n",
       "\n",
       "    .dataframe tbody tr th {\n",
       "        vertical-align: top;\n",
       "    }\n",
       "\n",
       "    .dataframe thead th {\n",
       "        text-align: right;\n",
       "    }\n",
       "</style>\n",
       "<table border=\"1\" class=\"dataframe\">\n",
       "  <thead>\n",
       "    <tr style=\"text-align: right;\">\n",
       "      <th></th>\n",
       "      <th>deaths</th>\n",
       "    </tr>\n",
       "    <tr>\n",
       "      <th>month</th>\n",
       "      <th></th>\n",
       "    </tr>\n",
       "  </thead>\n",
       "  <tbody>\n",
       "    <tr>\n",
       "      <th>2021-01-01</th>\n",
       "      <td>64</td>\n",
       "    </tr>\n",
       "    <tr>\n",
       "      <th>2021-02-01</th>\n",
       "      <td>62</td>\n",
       "    </tr>\n",
       "    <tr>\n",
       "      <th>2021-03-01</th>\n",
       "      <td>79</td>\n",
       "    </tr>\n",
       "    <tr>\n",
       "      <th>2021-04-01</th>\n",
       "      <td>78</td>\n",
       "    </tr>\n",
       "    <tr>\n",
       "      <th>2021-05-01</th>\n",
       "      <td>84</td>\n",
       "    </tr>\n",
       "  </tbody>\n",
       "</table>\n",
       "</div>"
      ],
      "text/plain": [
       "            deaths\n",
       "month             \n",
       "2021-01-01      64\n",
       "2021-02-01      62\n",
       "2021-03-01      79\n",
       "2021-04-01      78\n",
       "2021-05-01      84"
      ]
     },
     "execution_count": 167,
     "metadata": {},
     "output_type": "execute_result"
    }
   ],
   "source": [
    "train_data_endog = data\n",
    "train_data_endog.head()"
   ]
  },
  {
   "cell_type": "code",
   "execution_count": 168,
   "id": "85af3bbc",
   "metadata": {},
   "outputs": [
    {
     "data": {
      "text/html": [
       "<div>\n",
       "<style scoped>\n",
       "    .dataframe tbody tr th:only-of-type {\n",
       "        vertical-align: middle;\n",
       "    }\n",
       "\n",
       "    .dataframe tbody tr th {\n",
       "        vertical-align: top;\n",
       "    }\n",
       "\n",
       "    .dataframe thead th {\n",
       "        text-align: right;\n",
       "    }\n",
       "</style>\n",
       "<table border=\"1\" class=\"dataframe\">\n",
       "  <thead>\n",
       "    <tr style=\"text-align: right;\">\n",
       "      <th></th>\n",
       "      <th>deaths</th>\n",
       "    </tr>\n",
       "    <tr>\n",
       "      <th>month</th>\n",
       "      <th></th>\n",
       "    </tr>\n",
       "  </thead>\n",
       "  <tbody>\n",
       "    <tr>\n",
       "      <th>2022-05-01</th>\n",
       "      <td>94</td>\n",
       "    </tr>\n",
       "    <tr>\n",
       "      <th>2022-06-01</th>\n",
       "      <td>77</td>\n",
       "    </tr>\n",
       "    <tr>\n",
       "      <th>2022-07-01</th>\n",
       "      <td>86</td>\n",
       "    </tr>\n",
       "    <tr>\n",
       "      <th>2022-08-01</th>\n",
       "      <td>117</td>\n",
       "    </tr>\n",
       "    <tr>\n",
       "      <th>2022-09-01</th>\n",
       "      <td>83</td>\n",
       "    </tr>\n",
       "  </tbody>\n",
       "</table>\n",
       "</div>"
      ],
      "text/plain": [
       "            deaths\n",
       "month             \n",
       "2022-05-01      94\n",
       "2022-06-01      77\n",
       "2022-07-01      86\n",
       "2022-08-01     117\n",
       "2022-09-01      83"
      ]
     },
     "execution_count": 168,
     "metadata": {},
     "output_type": "execute_result"
    }
   ],
   "source": [
    "#test data\n",
    "test_data_endog = data.iloc[len(data)-8:]\n",
    "test_data_endog.head()"
   ]
  },
  {
   "cell_type": "code",
   "execution_count": 169,
   "id": "d77fe261",
   "metadata": {
    "execution": {
     "iopub.execute_input": "2021-07-29T13:57:25.496974Z",
     "iopub.status.busy": "2021-07-29T13:57:25.496246Z",
     "iopub.status.idle": "2021-07-29T13:57:25.523252Z",
     "shell.execute_reply": "2021-07-29T13:57:25.523724Z",
     "shell.execute_reply.started": "2021-07-29T13:23:06.762490Z"
    },
    "papermill": {
     "duration": 0.079461,
     "end_time": "2021-07-29T13:57:25.523957",
     "exception": false,
     "start_time": "2021-07-29T13:57:25.444496",
     "status": "completed"
    },
    "tags": []
   },
   "outputs": [
    {
     "data": {
      "text/html": [
       "<div>\n",
       "<style scoped>\n",
       "    .dataframe tbody tr th:only-of-type {\n",
       "        vertical-align: middle;\n",
       "    }\n",
       "\n",
       "    .dataframe tbody tr th {\n",
       "        vertical-align: top;\n",
       "    }\n",
       "\n",
       "    .dataframe thead th {\n",
       "        text-align: right;\n",
       "    }\n",
       "</style>\n",
       "<table border=\"1\" class=\"dataframe\">\n",
       "  <thead>\n",
       "    <tr style=\"text-align: right;\">\n",
       "      <th></th>\n",
       "      <th>deaths</th>\n",
       "    </tr>\n",
       "    <tr>\n",
       "      <th>month</th>\n",
       "      <th></th>\n",
       "    </tr>\n",
       "  </thead>\n",
       "  <tbody>\n",
       "    <tr>\n",
       "      <th>2021-03-01</th>\n",
       "      <td>68.333333</td>\n",
       "    </tr>\n",
       "    <tr>\n",
       "      <th>2021-04-01</th>\n",
       "      <td>73.000000</td>\n",
       "    </tr>\n",
       "    <tr>\n",
       "      <th>2021-05-01</th>\n",
       "      <td>80.333333</td>\n",
       "    </tr>\n",
       "    <tr>\n",
       "      <th>2021-06-01</th>\n",
       "      <td>91.333333</td>\n",
       "    </tr>\n",
       "    <tr>\n",
       "      <th>2021-07-01</th>\n",
       "      <td>93.666667</td>\n",
       "    </tr>\n",
       "  </tbody>\n",
       "</table>\n",
       "</div>"
      ],
      "text/plain": [
       "               deaths\n",
       "month                \n",
       "2021-03-01  68.333333\n",
       "2021-04-01  73.000000\n",
       "2021-05-01  80.333333\n",
       "2021-06-01  91.333333\n",
       "2021-07-01  93.666667"
      ]
     },
     "execution_count": 169,
     "metadata": {},
     "output_type": "execute_result"
    }
   ],
   "source": [
    "#train endogenous variable\n",
    "movingAverage_endog = train_data_endog.rolling(window=3).mean()\n",
    "#df_minus_movingAverage_endog = train_data_endog - movingAverage_endog\n",
    "movingAverage_endog.dropna(inplace=True)\n",
    "movingAverage_endog.head()"
   ]
  },
  {
   "cell_type": "raw",
   "id": "d1180150",
   "metadata": {},
   "source": [
    "#train endogenous variable\n",
    "movingAverage_endog = train_data_endog.rolling(window=3).mean()\n",
    "df_minus_movingAverage_endog = train_data_endog - movingAverage_endog\n",
    "df_minus_movingAverage_endog.head()"
   ]
  },
  {
   "cell_type": "raw",
   "id": "5f9f1680",
   "metadata": {},
   "source": [
    "#test endog variable\n",
    "movingAverage_T_endog = test_data_endog.rolling(window=3).mean()\n",
    "T_df_minus_movingAverage_endog = test_data_endog - movingAverage_T_endog\n",
    "T_df_minus_movingAverage_endog.head(7)"
   ]
  },
  {
   "cell_type": "raw",
   "id": "c99914b8",
   "metadata": {},
   "source": [
    "#test endog variable\n",
    "movingAverage_T_endog = test_data.rolling(window=3).mean()\n",
    "T_df_minus_movingAverage_endog = test_data - movingAverage_T_endog\n",
    "T_df_minus_movingAverage_endog"
   ]
  },
  {
   "cell_type": "code",
   "execution_count": 170,
   "id": "92c7caa9",
   "metadata": {},
   "outputs": [
    {
     "data": {
      "text/html": [
       "<div>\n",
       "<style scoped>\n",
       "    .dataframe tbody tr th:only-of-type {\n",
       "        vertical-align: middle;\n",
       "    }\n",
       "\n",
       "    .dataframe tbody tr th {\n",
       "        vertical-align: top;\n",
       "    }\n",
       "\n",
       "    .dataframe thead th {\n",
       "        text-align: right;\n",
       "    }\n",
       "</style>\n",
       "<table border=\"1\" class=\"dataframe\">\n",
       "  <thead>\n",
       "    <tr style=\"text-align: right;\">\n",
       "      <th></th>\n",
       "      <th>Admissions</th>\n",
       "      <th>HIVPositive_deliveries</th>\n",
       "      <th>Othercauses_Abortions</th>\n",
       "      <th>GBV_Abortions</th>\n",
       "      <th>malaria</th>\n",
       "      <th>maternal_nutrition</th>\n",
       "      <th>blood_pressure</th>\n",
       "    </tr>\n",
       "    <tr>\n",
       "      <th>month</th>\n",
       "      <th></th>\n",
       "      <th></th>\n",
       "      <th></th>\n",
       "      <th></th>\n",
       "      <th></th>\n",
       "      <th></th>\n",
       "      <th></th>\n",
       "    </tr>\n",
       "  </thead>\n",
       "  <tbody>\n",
       "    <tr>\n",
       "      <th>2021-01-01</th>\n",
       "      <td>12392</td>\n",
       "      <td>4407</td>\n",
       "      <td>5927</td>\n",
       "      <td>146</td>\n",
       "      <td>27101</td>\n",
       "      <td>101995</td>\n",
       "      <td>1150</td>\n",
       "    </tr>\n",
       "    <tr>\n",
       "      <th>2021-02-01</th>\n",
       "      <td>12066</td>\n",
       "      <td>4428</td>\n",
       "      <td>5751</td>\n",
       "      <td>129</td>\n",
       "      <td>24548</td>\n",
       "      <td>100977</td>\n",
       "      <td>1101</td>\n",
       "    </tr>\n",
       "    <tr>\n",
       "      <th>2021-03-01</th>\n",
       "      <td>13569</td>\n",
       "      <td>9125</td>\n",
       "      <td>8084</td>\n",
       "      <td>132</td>\n",
       "      <td>25474</td>\n",
       "      <td>113684</td>\n",
       "      <td>1102</td>\n",
       "    </tr>\n",
       "    <tr>\n",
       "      <th>2021-04-01</th>\n",
       "      <td>13444</td>\n",
       "      <td>5062</td>\n",
       "      <td>23433</td>\n",
       "      <td>167</td>\n",
       "      <td>26025</td>\n",
       "      <td>113631</td>\n",
       "      <td>853</td>\n",
       "    </tr>\n",
       "  </tbody>\n",
       "</table>\n",
       "</div>"
      ],
      "text/plain": [
       "            Admissions  HIVPositive_deliveries  Othercauses_Abortions  \\\n",
       "month                                                                   \n",
       "2021-01-01       12392                    4407                   5927   \n",
       "2021-02-01       12066                    4428                   5751   \n",
       "2021-03-01       13569                    9125                   8084   \n",
       "2021-04-01       13444                    5062                  23433   \n",
       "\n",
       "            GBV_Abortions  malaria  maternal_nutrition  blood_pressure  \n",
       "month                                                                   \n",
       "2021-01-01            146    27101              101995            1150  \n",
       "2021-02-01            129    24548              100977            1101  \n",
       "2021-03-01            132    25474              113684            1102  \n",
       "2021-04-01            167    26025              113631             853  "
      ]
     },
     "execution_count": 170,
     "metadata": {},
     "output_type": "execute_result"
    }
   ],
   "source": [
    "#Exogenous variables\n",
    "df = pd.read_csv('merged_data_month.csv')\n",
    "df = df.drop(['deliveries','Referrals','deaths'], axis=1)\n",
    "df['month']=pd.to_datetime(df['month'], infer_datetime_format=True)\n",
    "df = df.sort_values(by='month')\n",
    "df.set_index('month', inplace=True)\n",
    "df.head(4)"
   ]
  },
  {
   "cell_type": "code",
   "execution_count": 171,
   "id": "06718198",
   "metadata": {},
   "outputs": [],
   "source": [
    "# split data into training and testing sets\n",
    "train_data_exog = df.iloc[:len(data)-6]\n",
    "test_data_exog = df.iloc[len(data)-8:]"
   ]
  },
  {
   "cell_type": "code",
   "execution_count": 172,
   "id": "aa041beb",
   "metadata": {},
   "outputs": [
    {
     "data": {
      "text/html": [
       "<div>\n",
       "<style scoped>\n",
       "    .dataframe tbody tr th:only-of-type {\n",
       "        vertical-align: middle;\n",
       "    }\n",
       "\n",
       "    .dataframe tbody tr th {\n",
       "        vertical-align: top;\n",
       "    }\n",
       "\n",
       "    .dataframe thead th {\n",
       "        text-align: right;\n",
       "    }\n",
       "</style>\n",
       "<table border=\"1\" class=\"dataframe\">\n",
       "  <thead>\n",
       "    <tr style=\"text-align: right;\">\n",
       "      <th></th>\n",
       "      <th>Admissions</th>\n",
       "      <th>HIVPositive_deliveries</th>\n",
       "      <th>Othercauses_Abortions</th>\n",
       "      <th>GBV_Abortions</th>\n",
       "      <th>malaria</th>\n",
       "      <th>maternal_nutrition</th>\n",
       "      <th>blood_pressure</th>\n",
       "    </tr>\n",
       "    <tr>\n",
       "      <th>month</th>\n",
       "      <th></th>\n",
       "      <th></th>\n",
       "      <th></th>\n",
       "      <th></th>\n",
       "      <th></th>\n",
       "      <th></th>\n",
       "      <th></th>\n",
       "    </tr>\n",
       "  </thead>\n",
       "  <tbody>\n",
       "    <tr>\n",
       "      <th>2021-01-01</th>\n",
       "      <td>12392</td>\n",
       "      <td>4407</td>\n",
       "      <td>5927</td>\n",
       "      <td>146</td>\n",
       "      <td>27101</td>\n",
       "      <td>101995</td>\n",
       "      <td>1150</td>\n",
       "    </tr>\n",
       "    <tr>\n",
       "      <th>2021-02-01</th>\n",
       "      <td>12066</td>\n",
       "      <td>4428</td>\n",
       "      <td>5751</td>\n",
       "      <td>129</td>\n",
       "      <td>24548</td>\n",
       "      <td>100977</td>\n",
       "      <td>1101</td>\n",
       "    </tr>\n",
       "    <tr>\n",
       "      <th>2021-03-01</th>\n",
       "      <td>13569</td>\n",
       "      <td>9125</td>\n",
       "      <td>8084</td>\n",
       "      <td>132</td>\n",
       "      <td>25474</td>\n",
       "      <td>113684</td>\n",
       "      <td>1102</td>\n",
       "    </tr>\n",
       "    <tr>\n",
       "      <th>2021-04-01</th>\n",
       "      <td>13444</td>\n",
       "      <td>5062</td>\n",
       "      <td>23433</td>\n",
       "      <td>167</td>\n",
       "      <td>26025</td>\n",
       "      <td>113631</td>\n",
       "      <td>853</td>\n",
       "    </tr>\n",
       "    <tr>\n",
       "      <th>2021-05-01</th>\n",
       "      <td>14381</td>\n",
       "      <td>5290</td>\n",
       "      <td>5858</td>\n",
       "      <td>199</td>\n",
       "      <td>30859</td>\n",
       "      <td>120194</td>\n",
       "      <td>1044</td>\n",
       "    </tr>\n",
       "  </tbody>\n",
       "</table>\n",
       "</div>"
      ],
      "text/plain": [
       "            Admissions  HIVPositive_deliveries  Othercauses_Abortions  \\\n",
       "month                                                                   \n",
       "2021-01-01       12392                    4407                   5927   \n",
       "2021-02-01       12066                    4428                   5751   \n",
       "2021-03-01       13569                    9125                   8084   \n",
       "2021-04-01       13444                    5062                  23433   \n",
       "2021-05-01       14381                    5290                   5858   \n",
       "\n",
       "            GBV_Abortions  malaria  maternal_nutrition  blood_pressure  \n",
       "month                                                                   \n",
       "2021-01-01            146    27101              101995            1150  \n",
       "2021-02-01            129    24548              100977            1101  \n",
       "2021-03-01            132    25474              113684            1102  \n",
       "2021-04-01            167    26025              113631             853  \n",
       "2021-05-01            199    30859              120194            1044  "
      ]
     },
     "execution_count": 172,
     "metadata": {},
     "output_type": "execute_result"
    }
   ],
   "source": [
    "train_data_exog = df\n",
    "train_data_exog.head()"
   ]
  },
  {
   "cell_type": "code",
   "execution_count": 173,
   "id": "6110361e",
   "metadata": {},
   "outputs": [
    {
     "data": {
      "text/html": [
       "<div>\n",
       "<style scoped>\n",
       "    .dataframe tbody tr th:only-of-type {\n",
       "        vertical-align: middle;\n",
       "    }\n",
       "\n",
       "    .dataframe tbody tr th {\n",
       "        vertical-align: top;\n",
       "    }\n",
       "\n",
       "    .dataframe thead th {\n",
       "        text-align: right;\n",
       "    }\n",
       "</style>\n",
       "<table border=\"1\" class=\"dataframe\">\n",
       "  <thead>\n",
       "    <tr style=\"text-align: right;\">\n",
       "      <th></th>\n",
       "      <th>Admissions</th>\n",
       "      <th>HIVPositive_deliveries</th>\n",
       "      <th>Othercauses_Abortions</th>\n",
       "      <th>GBV_Abortions</th>\n",
       "      <th>malaria</th>\n",
       "      <th>maternal_nutrition</th>\n",
       "      <th>blood_pressure</th>\n",
       "    </tr>\n",
       "    <tr>\n",
       "      <th>month</th>\n",
       "      <th></th>\n",
       "      <th></th>\n",
       "      <th></th>\n",
       "      <th></th>\n",
       "      <th></th>\n",
       "      <th></th>\n",
       "      <th></th>\n",
       "    </tr>\n",
       "  </thead>\n",
       "  <tbody>\n",
       "    <tr>\n",
       "      <th>2022-05-01</th>\n",
       "      <td>14335</td>\n",
       "      <td>5163</td>\n",
       "      <td>5734</td>\n",
       "      <td>195</td>\n",
       "      <td>40668</td>\n",
       "      <td>127010</td>\n",
       "      <td>1238</td>\n",
       "    </tr>\n",
       "    <tr>\n",
       "      <th>2022-06-01</th>\n",
       "      <td>13701</td>\n",
       "      <td>4574</td>\n",
       "      <td>5505</td>\n",
       "      <td>187</td>\n",
       "      <td>40988</td>\n",
       "      <td>121626</td>\n",
       "      <td>1416</td>\n",
       "    </tr>\n",
       "    <tr>\n",
       "      <th>2022-07-01</th>\n",
       "      <td>13527</td>\n",
       "      <td>4952</td>\n",
       "      <td>6151</td>\n",
       "      <td>128</td>\n",
       "      <td>42504</td>\n",
       "      <td>123155</td>\n",
       "      <td>1448</td>\n",
       "    </tr>\n",
       "    <tr>\n",
       "      <th>2022-08-01</th>\n",
       "      <td>14481</td>\n",
       "      <td>4875</td>\n",
       "      <td>5887</td>\n",
       "      <td>104</td>\n",
       "      <td>36324</td>\n",
       "      <td>124197</td>\n",
       "      <td>1478</td>\n",
       "    </tr>\n",
       "    <tr>\n",
       "      <th>2022-09-01</th>\n",
       "      <td>13476</td>\n",
       "      <td>4574</td>\n",
       "      <td>6777</td>\n",
       "      <td>85</td>\n",
       "      <td>32377</td>\n",
       "      <td>121822</td>\n",
       "      <td>1297</td>\n",
       "    </tr>\n",
       "  </tbody>\n",
       "</table>\n",
       "</div>"
      ],
      "text/plain": [
       "            Admissions  HIVPositive_deliveries  Othercauses_Abortions  \\\n",
       "month                                                                   \n",
       "2022-05-01       14335                    5163                   5734   \n",
       "2022-06-01       13701                    4574                   5505   \n",
       "2022-07-01       13527                    4952                   6151   \n",
       "2022-08-01       14481                    4875                   5887   \n",
       "2022-09-01       13476                    4574                   6777   \n",
       "\n",
       "            GBV_Abortions  malaria  maternal_nutrition  blood_pressure  \n",
       "month                                                                   \n",
       "2022-05-01            195    40668              127010            1238  \n",
       "2022-06-01            187    40988              121626            1416  \n",
       "2022-07-01            128    42504              123155            1448  \n",
       "2022-08-01            104    36324              124197            1478  \n",
       "2022-09-01             85    32377              121822            1297  "
      ]
     },
     "execution_count": 173,
     "metadata": {},
     "output_type": "execute_result"
    }
   ],
   "source": [
    "#test exogenous variables\n",
    "test_data_exog = df.iloc[len(data)-8:]\n",
    "test_data_exog.head()"
   ]
  },
  {
   "cell_type": "raw",
   "id": "2b62108a",
   "metadata": {},
   "source": [
    "#train exog\n",
    "movingAverages_exog = train_data_exog.rolling(window=3).mean()\n",
    "df_minus_movingAverages_exog = train_data_exog - movingAverages_exog\n",
    "df_minus_movingAverages_exog.head()"
   ]
  },
  {
   "cell_type": "code",
   "execution_count": 174,
   "id": "e3baae1e",
   "metadata": {},
   "outputs": [
    {
     "data": {
      "text/html": [
       "<div>\n",
       "<style scoped>\n",
       "    .dataframe tbody tr th:only-of-type {\n",
       "        vertical-align: middle;\n",
       "    }\n",
       "\n",
       "    .dataframe tbody tr th {\n",
       "        vertical-align: top;\n",
       "    }\n",
       "\n",
       "    .dataframe thead th {\n",
       "        text-align: right;\n",
       "    }\n",
       "</style>\n",
       "<table border=\"1\" class=\"dataframe\">\n",
       "  <thead>\n",
       "    <tr style=\"text-align: right;\">\n",
       "      <th></th>\n",
       "      <th>Admissions</th>\n",
       "      <th>HIVPositive_deliveries</th>\n",
       "      <th>Othercauses_Abortions</th>\n",
       "      <th>GBV_Abortions</th>\n",
       "      <th>malaria</th>\n",
       "      <th>maternal_nutrition</th>\n",
       "      <th>blood_pressure</th>\n",
       "    </tr>\n",
       "    <tr>\n",
       "      <th>month</th>\n",
       "      <th></th>\n",
       "      <th></th>\n",
       "      <th></th>\n",
       "      <th></th>\n",
       "      <th></th>\n",
       "      <th></th>\n",
       "      <th></th>\n",
       "    </tr>\n",
       "  </thead>\n",
       "  <tbody>\n",
       "    <tr>\n",
       "      <th>2022-07-01</th>\n",
       "      <td>13854.333333</td>\n",
       "      <td>4896.333333</td>\n",
       "      <td>5796.666667</td>\n",
       "      <td>170.000000</td>\n",
       "      <td>41386.666667</td>\n",
       "      <td>123930.333333</td>\n",
       "      <td>1367.333333</td>\n",
       "    </tr>\n",
       "    <tr>\n",
       "      <th>2022-08-01</th>\n",
       "      <td>13903.000000</td>\n",
       "      <td>4800.333333</td>\n",
       "      <td>5847.666667</td>\n",
       "      <td>139.666667</td>\n",
       "      <td>39938.666667</td>\n",
       "      <td>122992.666667</td>\n",
       "      <td>1447.333333</td>\n",
       "    </tr>\n",
       "    <tr>\n",
       "      <th>2022-09-01</th>\n",
       "      <td>13828.000000</td>\n",
       "      <td>4800.333333</td>\n",
       "      <td>6271.666667</td>\n",
       "      <td>105.666667</td>\n",
       "      <td>37068.333333</td>\n",
       "      <td>123058.000000</td>\n",
       "      <td>1407.666667</td>\n",
       "    </tr>\n",
       "    <tr>\n",
       "      <th>2022-10-01</th>\n",
       "      <td>13824.333333</td>\n",
       "      <td>4894.000000</td>\n",
       "      <td>6022.666667</td>\n",
       "      <td>103.333333</td>\n",
       "      <td>34448.333333</td>\n",
       "      <td>121936.000000</td>\n",
       "      <td>1326.000000</td>\n",
       "    </tr>\n",
       "    <tr>\n",
       "      <th>2022-11-01</th>\n",
       "      <td>13107.333333</td>\n",
       "      <td>4783.000000</td>\n",
       "      <td>5937.666667</td>\n",
       "      <td>117.333333</td>\n",
       "      <td>34923.333333</td>\n",
       "      <td>119240.333333</td>\n",
       "      <td>1219.666667</td>\n",
       "    </tr>\n",
       "  </tbody>\n",
       "</table>\n",
       "</div>"
      ],
      "text/plain": [
       "              Admissions  HIVPositive_deliveries  Othercauses_Abortions  \\\n",
       "month                                                                     \n",
       "2022-07-01  13854.333333             4896.333333            5796.666667   \n",
       "2022-08-01  13903.000000             4800.333333            5847.666667   \n",
       "2022-09-01  13828.000000             4800.333333            6271.666667   \n",
       "2022-10-01  13824.333333             4894.000000            6022.666667   \n",
       "2022-11-01  13107.333333             4783.000000            5937.666667   \n",
       "\n",
       "            GBV_Abortions       malaria  maternal_nutrition  blood_pressure  \n",
       "month                                                                        \n",
       "2022-07-01     170.000000  41386.666667       123930.333333     1367.333333  \n",
       "2022-08-01     139.666667  39938.666667       122992.666667     1447.333333  \n",
       "2022-09-01     105.666667  37068.333333       123058.000000     1407.666667  \n",
       "2022-10-01     103.333333  34448.333333       121936.000000     1326.000000  \n",
       "2022-11-01     117.333333  34923.333333       119240.333333     1219.666667  "
      ]
     },
     "execution_count": 174,
     "metadata": {},
     "output_type": "execute_result"
    }
   ],
   "source": [
    "#test\n",
    "movingAverages_T_exog = test_data_exog.rolling(window=3).mean()\n",
    "#T_df_minus_movingAverages_exog = test_data_exog - movingAverages_T_exog\n",
    "#T_df_minus_movingAverages_exog.head()\n",
    "# dropping nan values\n",
    "movingAverages_T_exog.dropna(inplace=True)\n",
    "movingAverages_T_exog.head()"
   ]
  },
  {
   "cell_type": "raw",
   "id": "a161f937",
   "metadata": {},
   "source": [
    "# dropping train exog nan values endog\n",
    "df_minus_movingAverages_exog.dropna(inplace=True)\n",
    "df_minus_movingAverages_exog.head()"
   ]
  },
  {
   "cell_type": "raw",
   "id": "68a4ba4d",
   "metadata": {},
   "source": [
    "# dropping test exog nan values endog\n",
    "movingAverages_T_exog.dropna(inplace=True)\n",
    "movingAverages_T_exog"
   ]
  },
  {
   "cell_type": "raw",
   "id": "8dc59078",
   "metadata": {},
   "source": [
    "# dropping test exog nan values\n",
    "T_df_minus_movingAverages_exog.dropna(inplace=True)\n",
    "T_df_minus_movingAverages_exog.head()"
   ]
  },
  {
   "cell_type": "raw",
   "id": "fddecce9",
   "metadata": {},
   "source": [
    "# dropping endog & exog nan values in moving averages\n",
    "movingAverage_endog.dropna(inplace=True)\n",
    "movingAverage_T_endog.dropna(inplace=True)\n",
    "movingAverages_exog.dropna(inplace=True)\n",
    "T_df_minus_movingAverage_endog.dropna(inplace=True)\n",
    "movingAverage_endog.head()"
   ]
  },
  {
   "cell_type": "raw",
   "id": "5937371c",
   "metadata": {
    "execution": {
     "iopub.execute_input": "2021-07-29T13:57:25.627790Z",
     "iopub.status.busy": "2021-07-29T13:57:25.626866Z",
     "iopub.status.idle": "2021-07-29T13:57:25.631569Z",
     "shell.execute_reply": "2021-07-29T13:57:25.632037Z",
     "shell.execute_reply.started": "2021-07-29T13:23:11.951933Z"
    },
    "papermill": {
     "duration": 0.062495,
     "end_time": "2021-07-29T13:57:25.632234",
     "exception": false,
     "start_time": "2021-07-29T13:57:25.569739",
     "status": "completed"
    },
    "tags": []
   },
   "source": [
    "# dropping train endog nan values\n",
    "df_minus_movingAverage_endog.dropna(inplace=True)\n",
    "df_minus_movingAverage_endog.head()"
   ]
  },
  {
   "cell_type": "raw",
   "id": "e36b0678",
   "metadata": {
    "execution": {
     "iopub.execute_input": "2021-07-29T13:57:25.741699Z",
     "iopub.status.busy": "2021-07-29T13:57:25.740999Z",
     "iopub.status.idle": "2021-07-29T13:57:25.745283Z",
     "shell.execute_reply": "2021-07-29T13:57:25.744714Z",
     "shell.execute_reply.started": "2021-07-29T13:23:13.271904Z"
    },
    "papermill": {
     "duration": 0.067137,
     "end_time": "2021-07-29T13:57:25.745444",
     "exception": false,
     "start_time": "2021-07-29T13:57:25.678307",
     "status": "completed"
    },
    "tags": []
   },
   "source": [
    "# dropping nan values\n",
    "movingAverage_endog.dropna(inplace=True)\n",
    "movingAverage_endog.head()"
   ]
  },
  {
   "cell_type": "raw",
   "id": "31dd269c",
   "metadata": {
    "execution": {
     "iopub.execute_input": "2021-07-29T13:57:25.863146Z",
     "iopub.status.busy": "2021-07-29T13:57:25.845772Z",
     "iopub.status.idle": "2021-07-29T13:57:26.176640Z",
     "shell.execute_reply": "2021-07-29T13:57:26.175437Z",
     "shell.execute_reply.started": "2021-07-29T13:23:14.247333Z"
    },
    "papermill": {
     "duration": 0.383681,
     "end_time": "2021-07-29T13:57:26.176901",
     "exception": false,
     "start_time": "2021-07-29T13:57:25.793220",
     "status": "completed"
    },
    "tags": []
   },
   "source": [
    "test_stationarity(df_minus_movingAverage_endog)"
   ]
  },
  {
   "cell_type": "markdown",
   "id": "secure-poultry",
   "metadata": {
    "papermill": {
     "duration": 0.059679,
     "end_time": "2021-07-29T13:57:26.326753",
     "exception": false,
     "start_time": "2021-07-29T13:57:26.267074",
     "status": "completed"
    },
    "tags": []
   },
   "source": [
    "- Since **p value < 0.05**, data is now **stationary**"
   ]
  },
  {
   "cell_type": "raw",
   "id": "895e5e84",
   "metadata": {
    "execution": {
     "iopub.execute_input": "2021-07-29T13:57:26.435120Z",
     "iopub.status.busy": "2021-07-29T13:57:26.434408Z",
     "iopub.status.idle": "2021-07-29T13:57:29.575148Z",
     "shell.execute_reply": "2021-07-29T13:57:29.575607Z",
     "shell.execute_reply.started": "2021-07-29T13:23:14.862054Z"
    },
    "papermill": {
     "duration": 3.197524,
     "end_time": "2021-07-29T13:57:29.575783",
     "exception": false,
     "start_time": "2021-07-29T13:57:26.378259",
     "status": "completed"
    },
    "tags": []
   },
   "source": [
    "#checking lags\n",
    "\n",
    "from statsmodels.tsa.stattools import arma_order_select_ic\n",
    "arma_order_select_ic(df_minus_movingAverage_endog)"
   ]
  },
  {
   "cell_type": "code",
   "execution_count": 175,
   "id": "547e1263",
   "metadata": {},
   "outputs": [
    {
     "data": {
      "text/plain": [
       "{'bic':             0           1           2\n",
       " 0  198.531902  201.118659  203.414844\n",
       " 1  200.925649  203.925824  206.493482\n",
       " 2  203.631929  207.277243  206.002859\n",
       " 3  206.599929  209.494619  208.635204\n",
       " 4  209.157347  212.301105         NaN,\n",
       " 'bic_min_order': (0, 0)}"
      ]
     },
     "execution_count": 175,
     "metadata": {},
     "output_type": "execute_result"
    }
   ],
   "source": [
    "#checking lags\n",
    "#stationary\n",
    "from statsmodels.tsa.stattools import arma_order_select_ic\n",
    "arma_order_select_ic(train_data_endog)"
   ]
  },
  {
   "cell_type": "markdown",
   "id": "opponent-rally",
   "metadata": {
    "papermill": {
     "duration": 0.049011,
     "end_time": "2021-07-29T13:57:29.674378",
     "exception": false,
     "start_time": "2021-07-29T13:57:29.625367",
     "status": "completed"
    },
    "tags": []
   },
   "source": [
    "## ARIMA Model"
   ]
  },
  {
   "cell_type": "raw",
   "id": "6535d379",
   "metadata": {},
   "source": [
    "df_minus_movingAverage_endog.index"
   ]
  },
  {
   "cell_type": "code",
   "execution_count": 176,
   "id": "90f6e5d5",
   "metadata": {},
   "outputs": [
    {
     "data": {
      "text/plain": [
       "DatetimeIndex(['2021-01-01', '2021-02-01', '2021-03-01', '2021-04-01',\n",
       "               '2021-05-01', '2021-06-01', '2021-07-01', '2021-08-01',\n",
       "               '2021-09-01', '2021-10-01', '2021-11-01', '2021-12-01',\n",
       "               '2022-01-01', '2022-02-01', '2022-03-01', '2022-04-01',\n",
       "               '2022-05-01', '2022-06-01', '2022-07-01', '2022-08-01',\n",
       "               '2022-09-01', '2022-10-01', '2022-11-01', '2022-12-01'],\n",
       "              dtype='datetime64[ns]', name='month', freq=None)"
      ]
     },
     "execution_count": 176,
     "metadata": {},
     "output_type": "execute_result"
    }
   ],
   "source": [
    "#stationary\n",
    "train_data_endog.index"
   ]
  },
  {
   "cell_type": "raw",
   "id": "be3e392e",
   "metadata": {},
   "source": [
    "df_minus_movingAverages_exog.index"
   ]
  },
  {
   "cell_type": "code",
   "execution_count": 177,
   "id": "55c36011",
   "metadata": {},
   "outputs": [
    {
     "data": {
      "text/plain": [
       "DatetimeIndex(['2021-01-01', '2021-02-01', '2021-03-01', '2021-04-01',\n",
       "               '2021-05-01', '2021-06-01', '2021-07-01', '2021-08-01',\n",
       "               '2021-09-01', '2021-10-01', '2021-11-01', '2021-12-01',\n",
       "               '2022-01-01', '2022-02-01', '2022-03-01', '2022-04-01',\n",
       "               '2022-05-01', '2022-06-01', '2022-07-01', '2022-08-01',\n",
       "               '2022-09-01', '2022-10-01', '2022-11-01', '2022-12-01'],\n",
       "              dtype='datetime64[ns]', name='month', freq=None)"
      ]
     },
     "execution_count": 177,
     "metadata": {},
     "output_type": "execute_result"
    }
   ],
   "source": [
    "#stationary\n",
    "train_data_exog.index"
   ]
  },
  {
   "cell_type": "raw",
   "id": "7763743e",
   "metadata": {},
   "source": [
    "# define exogenous variables\n",
    "exog_vars = ['Admissions', 'blood_pressure','maternal_nutrition',\n",
    "             'HIVPositive_deliveries', 'Othercauses_Abortions','GBV_Abortions','malaria']"
   ]
  },
  {
   "cell_type": "raw",
   "id": "0a8cd148",
   "metadata": {
    "execution": {
     "iopub.execute_input": "2021-07-29T13:57:29.784201Z",
     "iopub.status.busy": "2021-07-29T13:57:29.783386Z",
     "iopub.status.idle": "2021-07-29T13:57:30.569033Z",
     "shell.execute_reply": "2021-07-29T13:57:30.569602Z",
     "shell.execute_reply.started": "2021-07-29T13:23:22.541660Z"
    },
    "papermill": {
     "duration": 0.84448,
     "end_time": "2021-07-29T13:57:30.569828",
     "exception": false,
     "start_time": "2021-07-29T13:57:29.725348",
     "status": "completed"
    },
    "tags": []
   },
   "source": [
    "from statsmodels.tsa.arima.model import ARIMA\n",
    "# ARIMA Model\n",
    "\n",
    "print('Plotting ARIMA Model')\n",
    "model = ARIMA(endog=df_minus_movingAverage_endog, exog=df_minus_movingAverages_exog)\n",
    "results_ARIMA = model.fit()\n",
    "plt.style.use('ggplot')\n",
    "plt.plot(df_minus_movingAverage_endog,color='b')\n",
    "plt.plot(results_ARIMA.fittedvalues, color='r')\n",
    "plt.title('RSS: {:1.4f}'.format(sum((results_ARIMA.fittedvalues-data['deaths'])**2)))\n",
    "plt.xticks(rotation=45)\n",
    "plt.xlabel('Period', fontsize=14, fontfamily='serif')\n",
    "plt.annotate('Annotate', xy=(3, 9), xytext=(4, 16), fontsize=12,\n",
    "             arrowprops=dict(facecolor='black', arrowstyle='->'))\n",
    "plt.tight_layout()\n",
    "plt.show()"
   ]
  },
  {
   "cell_type": "code",
   "execution_count": 178,
   "id": "63d39ee7",
   "metadata": {},
   "outputs": [
    {
     "name": "stdout",
     "output_type": "stream",
     "text": [
      "Plotting ARIMA Model\n"
     ]
    },
    {
     "data": {
      "image/png": "[encoded data removed]",
      "text/plain": [
       "<Figure size 1400x700 with 1 Axes>"
      ]
     },
     "metadata": {},
     "output_type": "display_data"
    }
   ],
   "source": [
    "# stationary\n",
    "from statsmodels.tsa.arima.model import ARIMA\n",
    "# ARIMA Model\n",
    "\n",
    "print('Plotting ARIMA Model')\n",
    "model = ARIMA(endog=train_data_endog, exog=train_data_exog)\n",
    "results_ARIMA = model.fit()\n",
    "plt.style.use('ggplot')\n",
    "plt.plot(train_data_endog,color='b')\n",
    "plt.plot(results_ARIMA.fittedvalues, color='r')\n",
    "plt.title('RSS: {:1.4f}'.format(sum((results_ARIMA.fittedvalues-data['deaths'])**2)))\n",
    "plt.xticks(rotation=45)\n",
    "plt.xlabel('Period', fontsize=14, fontfamily='serif')\n",
    "plt.annotate('Annotate', xy=(3, 9), xytext=(4, 16), fontsize=12,\n",
    "             arrowprops=dict(facecolor='black', arrowstyle='->'))\n",
    "plt.tight_layout()\n",
    "plt.show()"
   ]
  },
  {
   "cell_type": "code",
   "execution_count": 179,
   "id": "123f4391",
   "metadata": {},
   "outputs": [],
   "source": [
    "# predict test set data\n",
    "test_data['predicted_deaths'] = results_ARIMA.predict(start='2022-07-01', end='2022-12-01', \n",
    "                                                      exog=movingAverages_T_exog, dynamic=True)"
   ]
  },
  {
   "cell_type": "code",
   "execution_count": 180,
   "id": "c4348228",
   "metadata": {},
   "outputs": [
    {
     "data": {
      "text/plain": [
       "month\n",
       "2022-07-01    99.101655\n",
       "2022-08-01    95.749113\n",
       "2022-09-01    86.693510\n",
       "2022-10-01    91.139435\n",
       "2022-11-01    87.828916\n",
       "2022-12-01    85.206226\n",
       "Name: predicted_deaths, dtype: float64"
      ]
     },
     "execution_count": 180,
     "metadata": {},
     "output_type": "execute_result"
    }
   ],
   "source": [
    "test_data['predicted_deaths']"
   ]
  },
  {
   "cell_type": "code",
   "execution_count": 181,
   "id": "6a9d202e",
   "metadata": {},
   "outputs": [
    {
     "data": {
      "text/html": [
       "<div>\n",
       "<style scoped>\n",
       "    .dataframe tbody tr th:only-of-type {\n",
       "        vertical-align: middle;\n",
       "    }\n",
       "\n",
       "    .dataframe tbody tr th {\n",
       "        vertical-align: top;\n",
       "    }\n",
       "\n",
       "    .dataframe thead th {\n",
       "        text-align: right;\n",
       "    }\n",
       "</style>\n",
       "<table border=\"1\" class=\"dataframe\">\n",
       "  <thead>\n",
       "    <tr style=\"text-align: right;\">\n",
       "      <th></th>\n",
       "      <th>deaths</th>\n",
       "    </tr>\n",
       "    <tr>\n",
       "      <th>month</th>\n",
       "      <th></th>\n",
       "    </tr>\n",
       "  </thead>\n",
       "  <tbody>\n",
       "    <tr>\n",
       "      <th>2021-03-01</th>\n",
       "      <td>68.333333</td>\n",
       "    </tr>\n",
       "    <tr>\n",
       "      <th>2021-04-01</th>\n",
       "      <td>73.000000</td>\n",
       "    </tr>\n",
       "    <tr>\n",
       "      <th>2021-05-01</th>\n",
       "      <td>80.333333</td>\n",
       "    </tr>\n",
       "    <tr>\n",
       "      <th>2021-06-01</th>\n",
       "      <td>91.333333</td>\n",
       "    </tr>\n",
       "    <tr>\n",
       "      <th>2021-07-01</th>\n",
       "      <td>93.666667</td>\n",
       "    </tr>\n",
       "  </tbody>\n",
       "</table>\n",
       "</div>"
      ],
      "text/plain": [
       "               deaths\n",
       "month                \n",
       "2021-03-01  68.333333\n",
       "2021-04-01  73.000000\n",
       "2021-05-01  80.333333\n",
       "2021-06-01  91.333333\n",
       "2021-07-01  93.666667"
      ]
     },
     "execution_count": 181,
     "metadata": {},
     "output_type": "execute_result"
    }
   ],
   "source": [
    "#train endogenous variable MA\n",
    "movingAverage_endog = train_data_endog.rolling(window=3).mean()\n",
    "#df_minus_movingAverage_endog = train_data_endog - movingAverage_endog\n",
    "movingAverage_endog.dropna(inplace=True)\n",
    "movingAverage_endog.head()"
   ]
  },
  {
   "cell_type": "code",
   "execution_count": 182,
   "id": "1512c37e",
   "metadata": {},
   "outputs": [
    {
     "data": {
      "text/html": [
       "<div>\n",
       "<style scoped>\n",
       "    .dataframe tbody tr th:only-of-type {\n",
       "        vertical-align: middle;\n",
       "    }\n",
       "\n",
       "    .dataframe tbody tr th {\n",
       "        vertical-align: top;\n",
       "    }\n",
       "\n",
       "    .dataframe thead th {\n",
       "        text-align: right;\n",
       "    }\n",
       "</style>\n",
       "<table border=\"1\" class=\"dataframe\">\n",
       "  <thead>\n",
       "    <tr style=\"text-align: right;\">\n",
       "      <th></th>\n",
       "      <th>Admissions</th>\n",
       "      <th>HIVPositive_deliveries</th>\n",
       "      <th>Othercauses_Abortions</th>\n",
       "      <th>GBV_Abortions</th>\n",
       "      <th>malaria</th>\n",
       "      <th>maternal_nutrition</th>\n",
       "      <th>blood_pressure</th>\n",
       "    </tr>\n",
       "    <tr>\n",
       "      <th>month</th>\n",
       "      <th></th>\n",
       "      <th></th>\n",
       "      <th></th>\n",
       "      <th></th>\n",
       "      <th></th>\n",
       "      <th></th>\n",
       "      <th></th>\n",
       "    </tr>\n",
       "  </thead>\n",
       "  <tbody>\n",
       "    <tr>\n",
       "      <th>2021-03-01</th>\n",
       "      <td>12675.666667</td>\n",
       "      <td>5986.666667</td>\n",
       "      <td>6587.333333</td>\n",
       "      <td>135.666667</td>\n",
       "      <td>25707.666667</td>\n",
       "      <td>105552.000000</td>\n",
       "      <td>1117.666667</td>\n",
       "    </tr>\n",
       "    <tr>\n",
       "      <th>2021-04-01</th>\n",
       "      <td>13026.333333</td>\n",
       "      <td>6205.000000</td>\n",
       "      <td>12422.666667</td>\n",
       "      <td>142.666667</td>\n",
       "      <td>25349.000000</td>\n",
       "      <td>109430.666667</td>\n",
       "      <td>1018.666667</td>\n",
       "    </tr>\n",
       "    <tr>\n",
       "      <th>2021-05-01</th>\n",
       "      <td>13798.000000</td>\n",
       "      <td>6492.333333</td>\n",
       "      <td>12458.333333</td>\n",
       "      <td>166.000000</td>\n",
       "      <td>27452.666667</td>\n",
       "      <td>115836.333333</td>\n",
       "      <td>999.666667</td>\n",
       "    </tr>\n",
       "    <tr>\n",
       "      <th>2021-06-01</th>\n",
       "      <td>13919.666667</td>\n",
       "      <td>5645.000000</td>\n",
       "      <td>11672.666667</td>\n",
       "      <td>186.666667</td>\n",
       "      <td>29334.333333</td>\n",
       "      <td>114277.666667</td>\n",
       "      <td>964.333333</td>\n",
       "    </tr>\n",
       "    <tr>\n",
       "      <th>2021-07-01</th>\n",
       "      <td>14430.666667</td>\n",
       "      <td>5623.333333</td>\n",
       "      <td>5713.666667</td>\n",
       "      <td>187.000000</td>\n",
       "      <td>29467.333333</td>\n",
       "      <td>114257.333333</td>\n",
       "      <td>1213.666667</td>\n",
       "    </tr>\n",
       "  </tbody>\n",
       "</table>\n",
       "</div>"
      ],
      "text/plain": [
       "              Admissions  HIVPositive_deliveries  Othercauses_Abortions  \\\n",
       "month                                                                     \n",
       "2021-03-01  12675.666667             5986.666667            6587.333333   \n",
       "2021-04-01  13026.333333             6205.000000           12422.666667   \n",
       "2021-05-01  13798.000000             6492.333333           12458.333333   \n",
       "2021-06-01  13919.666667             5645.000000           11672.666667   \n",
       "2021-07-01  14430.666667             5623.333333            5713.666667   \n",
       "\n",
       "            GBV_Abortions       malaria  maternal_nutrition  blood_pressure  \n",
       "month                                                                        \n",
       "2021-03-01     135.666667  25707.666667       105552.000000     1117.666667  \n",
       "2021-04-01     142.666667  25349.000000       109430.666667     1018.666667  \n",
       "2021-05-01     166.000000  27452.666667       115836.333333      999.666667  \n",
       "2021-06-01     186.666667  29334.333333       114277.666667      964.333333  \n",
       "2021-07-01     187.000000  29467.333333       114257.333333     1213.666667  "
      ]
     },
     "execution_count": 182,
     "metadata": {},
     "output_type": "execute_result"
    }
   ],
   "source": [
    "#train exog\n",
    "movingAverages_exog = train_data_exog.rolling(window=3).mean()\n",
    "#df_minus_movingAverages_exog = train_data_exog - movingAverages_exog\n",
    "movingAverages_exog.dropna(inplace=True)\n",
    "movingAverages_exog.head()"
   ]
  },
  {
   "cell_type": "code",
   "execution_count": 183,
   "id": "7f1d1c9d",
   "metadata": {},
   "outputs": [
    {
     "name": "stdout",
     "output_type": "stream",
     "text": [
      "Plotting ARIMA Model\n"
     ]
    },
    {
     "data": {
      "image/png": "[encoded data removed]",
      "text/plain": [
       "<Figure size 1400x700 with 1 Axes>"
      ]
     },
     "metadata": {},
     "output_type": "display_data"
    }
   ],
   "source": [
    "from statsmodels.tsa.arima.model import ARIMA\n",
    "# ARIMA Model\n",
    "\n",
    "print('Plotting ARIMA Model')\n",
    "model = ARIMA(endog=movingAverage_endog, exog=movingAverages_exog)\n",
    "results_ARIMA = model.fit()\n",
    "plt.style.use('ggplot')\n",
    "plt.plot(movingAverage_endog,color='b')\n",
    "plt.plot(results_ARIMA.fittedvalues, color='r')\n",
    "plt.title('RSS: {:1.4f}'.format(sum((results_ARIMA.fittedvalues-data['deaths'])**2)))\n",
    "plt.xticks(rotation=45)\n",
    "plt.xlabel('Period', fontsize=14, fontfamily='serif')\n",
    "plt.annotate('Annotate', xy=(3, 9), xytext=(4, 16), fontsize=12,\n",
    "             arrowprops=dict(facecolor='black', arrowstyle='->'))\n",
    "plt.tight_layout()\n",
    "plt.show()"
   ]
  },
  {
   "cell_type": "code",
   "execution_count": 184,
   "id": "caae8eaf",
   "metadata": {},
   "outputs": [
    {
     "data": {
      "text/plain": [
       "month\n",
       "2022-07-01    94.292650\n",
       "2022-08-01    96.612534\n",
       "2022-09-01    95.242190\n",
       "2022-10-01    92.274921\n",
       "2022-11-01    91.486780\n",
       "2022-12-01    88.402172\n",
       "Name: predicted_deaths, dtype: float64"
      ]
     },
     "execution_count": 184,
     "metadata": {},
     "output_type": "execute_result"
    }
   ],
   "source": [
    "# predict test set data\n",
    "test_data['predicted_deaths'] = results_ARIMA.predict(start='2022-07-01', end='2022-12-01', \n",
    "                                                      exog=movingAverages_T_exog, dynamic=True)\n",
    "test_data['predicted_deaths']"
   ]
  },
  {
   "cell_type": "raw",
   "id": "baf831fa",
   "metadata": {},
   "source": [
    "data\n",
    "test_deaths = data.iloc[len(data)-8:]\n",
    "test_deaths\n",
    "#test deaths moving averages\n",
    "movingAverages_Td = test_deaths.rolling(window=3).mean()\n",
    "Td_df_minus_movingAverages = test_deaths - movingAverages_Td\n",
    "Td_df_minus_movingAverages.dropna(inplace=True)"
   ]
  },
  {
   "cell_type": "raw",
   "id": "7ed84e7a",
   "metadata": {},
   "source": [
    "Td_df_minus_movingAverages"
   ]
  },
  {
   "cell_type": "raw",
   "id": "dfc740c3",
   "metadata": {},
   "source": [
    "movingAverage_T_endog['deaths']"
   ]
  },
  {
   "cell_type": "raw",
   "id": "2842964b",
   "metadata": {},
   "source": [
    "# ##converting back to original by adding moving averages\n",
    "\n",
    "model_values_test = test_data['predicted_deaths'] + movingAverage_T_endog['deaths']\n",
    "model_values_test"
   ]
  },
  {
   "cell_type": "code",
   "execution_count": 185,
   "id": "9500be20",
   "metadata": {},
   "outputs": [
    {
     "data": {
      "text/html": [
       "<div>\n",
       "<style scoped>\n",
       "    .dataframe tbody tr th:only-of-type {\n",
       "        vertical-align: middle;\n",
       "    }\n",
       "\n",
       "    .dataframe tbody tr th {\n",
       "        vertical-align: top;\n",
       "    }\n",
       "\n",
       "    .dataframe thead th {\n",
       "        text-align: right;\n",
       "    }\n",
       "</style>\n",
       "<table border=\"1\" class=\"dataframe\">\n",
       "  <thead>\n",
       "    <tr style=\"text-align: right;\">\n",
       "      <th></th>\n",
       "      <th>deaths</th>\n",
       "      <th>predicted_deaths</th>\n",
       "    </tr>\n",
       "    <tr>\n",
       "      <th>month</th>\n",
       "      <th></th>\n",
       "      <th></th>\n",
       "    </tr>\n",
       "  </thead>\n",
       "  <tbody>\n",
       "    <tr>\n",
       "      <th>2022-07-01</th>\n",
       "      <td>86</td>\n",
       "      <td>94.292650</td>\n",
       "    </tr>\n",
       "    <tr>\n",
       "      <th>2022-08-01</th>\n",
       "      <td>117</td>\n",
       "      <td>96.612534</td>\n",
       "    </tr>\n",
       "    <tr>\n",
       "      <th>2022-09-01</th>\n",
       "      <td>83</td>\n",
       "      <td>95.242190</td>\n",
       "    </tr>\n",
       "    <tr>\n",
       "      <th>2022-10-01</th>\n",
       "      <td>99</td>\n",
       "      <td>92.274921</td>\n",
       "    </tr>\n",
       "    <tr>\n",
       "      <th>2022-11-01</th>\n",
       "      <td>87</td>\n",
       "      <td>91.486780</td>\n",
       "    </tr>\n",
       "    <tr>\n",
       "      <th>2022-12-01</th>\n",
       "      <td>101</td>\n",
       "      <td>88.402172</td>\n",
       "    </tr>\n",
       "  </tbody>\n",
       "</table>\n",
       "</div>"
      ],
      "text/plain": [
       "            deaths  predicted_deaths\n",
       "month                               \n",
       "2022-07-01      86         94.292650\n",
       "2022-08-01     117         96.612534\n",
       "2022-09-01      83         95.242190\n",
       "2022-10-01      99         92.274921\n",
       "2022-11-01      87         91.486780\n",
       "2022-12-01     101         88.402172"
      ]
     },
     "execution_count": 185,
     "metadata": {},
     "output_type": "execute_result"
    }
   ],
   "source": [
    "test_data"
   ]
  },
  {
   "cell_type": "markdown",
   "id": "instrumental-rochester",
   "metadata": {
    "papermill": {
     "duration": 0.055454,
     "end_time": "2021-07-29T13:57:30.680454",
     "exception": false,
     "start_time": "2021-07-29T13:57:30.625000",
     "status": "completed"
    },
    "tags": []
   },
   "source": [
    "### Getting predictions"
   ]
  },
  {
   "cell_type": "code",
   "execution_count": 186,
   "id": "pursuant-coverage",
   "metadata": {
    "execution": {
     "iopub.execute_input": "2021-07-29T13:57:30.795513Z",
     "iopub.status.busy": "2021-07-29T13:57:30.794276Z",
     "iopub.status.idle": "2021-07-29T13:57:30.804578Z",
     "shell.execute_reply": "2021-07-29T13:57:30.805114Z",
     "shell.execute_reply.started": "2021-07-29T13:24:21.243661Z"
    },
    "papermill": {
     "duration": 0.07013,
     "end_time": "2021-07-29T13:57:30.805313",
     "exception": false,
     "start_time": "2021-07-29T13:57:30.735183",
     "status": "completed"
    },
    "scrolled": true,
    "tags": []
   },
   "outputs": [],
   "source": [
    "# to pandas series\n",
    "pred_ARIMA_diff = pd.Series(results_ARIMA.fittedvalues, copy=True)"
   ]
  },
  {
   "cell_type": "code",
   "execution_count": 187,
   "id": "permanent-chile",
   "metadata": {
    "execution": {
     "iopub.execute_input": "2021-07-29T13:57:30.923635Z",
     "iopub.status.busy": "2021-07-29T13:57:30.922441Z",
     "iopub.status.idle": "2021-07-29T13:57:30.934690Z",
     "shell.execute_reply": "2021-07-29T13:57:30.934123Z",
     "shell.execute_reply.started": "2021-07-29T13:24:25.961759Z"
    },
    "papermill": {
     "duration": 0.073702,
     "end_time": "2021-07-29T13:57:30.934878",
     "exception": false,
     "start_time": "2021-07-29T13:57:30.861176",
     "status": "completed"
    },
    "tags": []
   },
   "outputs": [
    {
     "data": {
      "text/html": [
       "<div>\n",
       "<style scoped>\n",
       "    .dataframe tbody tr th:only-of-type {\n",
       "        vertical-align: middle;\n",
       "    }\n",
       "\n",
       "    .dataframe tbody tr th {\n",
       "        vertical-align: top;\n",
       "    }\n",
       "\n",
       "    .dataframe thead th {\n",
       "        text-align: right;\n",
       "    }\n",
       "</style>\n",
       "<table border=\"1\" class=\"dataframe\">\n",
       "  <thead>\n",
       "    <tr style=\"text-align: right;\">\n",
       "      <th></th>\n",
       "      <th>0</th>\n",
       "    </tr>\n",
       "    <tr>\n",
       "      <th>month</th>\n",
       "      <th></th>\n",
       "    </tr>\n",
       "  </thead>\n",
       "  <tbody>\n",
       "    <tr>\n",
       "      <th>2022-08-01</th>\n",
       "      <td>96.612534</td>\n",
       "    </tr>\n",
       "    <tr>\n",
       "      <th>2022-09-01</th>\n",
       "      <td>95.242190</td>\n",
       "    </tr>\n",
       "    <tr>\n",
       "      <th>2022-10-01</th>\n",
       "      <td>92.274921</td>\n",
       "    </tr>\n",
       "    <tr>\n",
       "      <th>2022-11-01</th>\n",
       "      <td>91.486780</td>\n",
       "    </tr>\n",
       "    <tr>\n",
       "      <th>2022-12-01</th>\n",
       "      <td>88.402172</td>\n",
       "    </tr>\n",
       "  </tbody>\n",
       "</table>\n",
       "</div>"
      ],
      "text/plain": [
       "                    0\n",
       "month                \n",
       "2022-08-01  96.612534\n",
       "2022-09-01  95.242190\n",
       "2022-10-01  92.274921\n",
       "2022-11-01  91.486780\n",
       "2022-12-01  88.402172"
      ]
     },
     "execution_count": 187,
     "metadata": {},
     "output_type": "execute_result"
    }
   ],
   "source": [
    "#to dataframe\n",
    "\n",
    "pred_ARIMA = pred_ARIMA_diff.to_frame()\n",
    "pred_ARIMA.tail()"
   ]
  },
  {
   "cell_type": "code",
   "execution_count": 188,
   "id": "98cf6512",
   "metadata": {},
   "outputs": [],
   "source": [
    "df1 = pd.DataFrame(data.deaths[2:])"
   ]
  },
  {
   "cell_type": "code",
   "execution_count": 189,
   "id": "7c7cb77f",
   "metadata": {},
   "outputs": [
    {
     "data": {
      "text/html": [
       "<div>\n",
       "<style scoped>\n",
       "    .dataframe tbody tr th:only-of-type {\n",
       "        vertical-align: middle;\n",
       "    }\n",
       "\n",
       "    .dataframe tbody tr th {\n",
       "        vertical-align: top;\n",
       "    }\n",
       "\n",
       "    .dataframe thead th {\n",
       "        text-align: right;\n",
       "    }\n",
       "</style>\n",
       "<table border=\"1\" class=\"dataframe\">\n",
       "  <thead>\n",
       "    <tr style=\"text-align: right;\">\n",
       "      <th></th>\n",
       "      <th>Forecasted deaths</th>\n",
       "    </tr>\n",
       "    <tr>\n",
       "      <th>month</th>\n",
       "      <th></th>\n",
       "    </tr>\n",
       "  </thead>\n",
       "  <tbody>\n",
       "    <tr>\n",
       "      <th>2021-03-01</th>\n",
       "      <td>77.072930</td>\n",
       "    </tr>\n",
       "    <tr>\n",
       "      <th>2021-04-01</th>\n",
       "      <td>78.905542</td>\n",
       "    </tr>\n",
       "    <tr>\n",
       "      <th>2021-05-01</th>\n",
       "      <td>75.364101</td>\n",
       "    </tr>\n",
       "    <tr>\n",
       "      <th>2021-06-01</th>\n",
       "      <td>88.924314</td>\n",
       "    </tr>\n",
       "    <tr>\n",
       "      <th>2021-07-01</th>\n",
       "      <td>84.690494</td>\n",
       "    </tr>\n",
       "  </tbody>\n",
       "</table>\n",
       "</div>"
      ],
      "text/plain": [
       "            Forecasted deaths\n",
       "month                        \n",
       "2021-03-01          77.072930\n",
       "2021-04-01          78.905542\n",
       "2021-05-01          75.364101\n",
       "2021-06-01          88.924314\n",
       "2021-07-01          84.690494"
      ]
     },
     "execution_count": 189,
     "metadata": {},
     "output_type": "execute_result"
    }
   ],
   "source": [
    "# rename the first column\n",
    "pred_ARIMA = pred_ARIMA.rename(columns={0: 'Forecasted deaths'})\n",
    "pred_ARIMA.head()"
   ]
  },
  {
   "cell_type": "code",
   "execution_count": 190,
   "id": "3a1ff19f",
   "metadata": {},
   "outputs": [],
   "source": [
    "des = pd.DataFrame(pred_ARIMA.index)\n",
    "# Save the DataFrame as a CSV file\n",
    "des.to_csv('des.csv', index=False)"
   ]
  },
  {
   "cell_type": "code",
   "execution_count": 191,
   "id": "3d0ac6b0",
   "metadata": {},
   "outputs": [
    {
     "data": {
      "text/html": [
       "<div>\n",
       "<style scoped>\n",
       "    .dataframe tbody tr th:only-of-type {\n",
       "        vertical-align: middle;\n",
       "    }\n",
       "\n",
       "    .dataframe tbody tr th {\n",
       "        vertical-align: top;\n",
       "    }\n",
       "\n",
       "    .dataframe thead th {\n",
       "        text-align: right;\n",
       "    }\n",
       "</style>\n",
       "<table border=\"1\" class=\"dataframe\">\n",
       "  <thead>\n",
       "    <tr style=\"text-align: right;\">\n",
       "      <th></th>\n",
       "      <th>deaths</th>\n",
       "      <th>Forecasted deaths</th>\n",
       "    </tr>\n",
       "    <tr>\n",
       "      <th>month</th>\n",
       "      <th></th>\n",
       "      <th></th>\n",
       "    </tr>\n",
       "  </thead>\n",
       "  <tbody>\n",
       "    <tr>\n",
       "      <th>2021-03-01</th>\n",
       "      <td>79</td>\n",
       "      <td>77.072930</td>\n",
       "    </tr>\n",
       "    <tr>\n",
       "      <th>2021-04-01</th>\n",
       "      <td>78</td>\n",
       "      <td>78.905542</td>\n",
       "    </tr>\n",
       "    <tr>\n",
       "      <th>2021-05-01</th>\n",
       "      <td>84</td>\n",
       "      <td>75.364101</td>\n",
       "    </tr>\n",
       "    <tr>\n",
       "      <th>2021-06-01</th>\n",
       "      <td>112</td>\n",
       "      <td>88.924314</td>\n",
       "    </tr>\n",
       "    <tr>\n",
       "      <th>2021-07-01</th>\n",
       "      <td>85</td>\n",
       "      <td>84.690494</td>\n",
       "    </tr>\n",
       "    <tr>\n",
       "      <th>2021-08-01</th>\n",
       "      <td>77</td>\n",
       "      <td>86.005971</td>\n",
       "    </tr>\n",
       "    <tr>\n",
       "      <th>2021-09-01</th>\n",
       "      <td>65</td>\n",
       "      <td>83.517377</td>\n",
       "    </tr>\n",
       "    <tr>\n",
       "      <th>2021-10-01</th>\n",
       "      <td>81</td>\n",
       "      <td>79.651391</td>\n",
       "    </tr>\n",
       "    <tr>\n",
       "      <th>2021-11-01</th>\n",
       "      <td>74</td>\n",
       "      <td>73.716884</td>\n",
       "    </tr>\n",
       "    <tr>\n",
       "      <th>2021-12-01</th>\n",
       "      <td>88</td>\n",
       "      <td>80.049883</td>\n",
       "    </tr>\n",
       "    <tr>\n",
       "      <th>2022-01-01</th>\n",
       "      <td>95</td>\n",
       "      <td>82.182690</td>\n",
       "    </tr>\n",
       "    <tr>\n",
       "      <th>2022-02-01</th>\n",
       "      <td>81</td>\n",
       "      <td>89.061913</td>\n",
       "    </tr>\n",
       "    <tr>\n",
       "      <th>2022-03-01</th>\n",
       "      <td>86</td>\n",
       "      <td>83.536627</td>\n",
       "    </tr>\n",
       "    <tr>\n",
       "      <th>2022-04-01</th>\n",
       "      <td>76</td>\n",
       "      <td>81.190693</td>\n",
       "    </tr>\n",
       "    <tr>\n",
       "      <th>2022-05-01</th>\n",
       "      <td>94</td>\n",
       "      <td>80.781120</td>\n",
       "    </tr>\n",
       "    <tr>\n",
       "      <th>2022-06-01</th>\n",
       "      <td>77</td>\n",
       "      <td>88.370156</td>\n",
       "    </tr>\n",
       "    <tr>\n",
       "      <th>2022-07-01</th>\n",
       "      <td>86</td>\n",
       "      <td>94.292650</td>\n",
       "    </tr>\n",
       "    <tr>\n",
       "      <th>2022-08-01</th>\n",
       "      <td>117</td>\n",
       "      <td>96.612534</td>\n",
       "    </tr>\n",
       "    <tr>\n",
       "      <th>2022-09-01</th>\n",
       "      <td>83</td>\n",
       "      <td>95.242190</td>\n",
       "    </tr>\n",
       "    <tr>\n",
       "      <th>2022-10-01</th>\n",
       "      <td>99</td>\n",
       "      <td>92.274921</td>\n",
       "    </tr>\n",
       "    <tr>\n",
       "      <th>2022-11-01</th>\n",
       "      <td>87</td>\n",
       "      <td>91.486780</td>\n",
       "    </tr>\n",
       "    <tr>\n",
       "      <th>2022-12-01</th>\n",
       "      <td>101</td>\n",
       "      <td>88.402172</td>\n",
       "    </tr>\n",
       "  </tbody>\n",
       "</table>\n",
       "</div>"
      ],
      "text/plain": [
       "            deaths  Forecasted deaths\n",
       "month                                \n",
       "2021-03-01      79          77.072930\n",
       "2021-04-01      78          78.905542\n",
       "2021-05-01      84          75.364101\n",
       "2021-06-01     112          88.924314\n",
       "2021-07-01      85          84.690494\n",
       "2021-08-01      77          86.005971\n",
       "2021-09-01      65          83.517377\n",
       "2021-10-01      81          79.651391\n",
       "2021-11-01      74          73.716884\n",
       "2021-12-01      88          80.049883\n",
       "2022-01-01      95          82.182690\n",
       "2022-02-01      81          89.061913\n",
       "2022-03-01      86          83.536627\n",
       "2022-04-01      76          81.190693\n",
       "2022-05-01      94          80.781120\n",
       "2022-06-01      77          88.370156\n",
       "2022-07-01      86          94.292650\n",
       "2022-08-01     117          96.612534\n",
       "2022-09-01      83          95.242190\n",
       "2022-10-01      99          92.274921\n",
       "2022-11-01      87          91.486780\n",
       "2022-12-01     101          88.402172"
      ]
     },
     "execution_count": 191,
     "metadata": {},
     "output_type": "execute_result"
    }
   ],
   "source": [
    "merged_df = pd.concat([df1['deaths'], pred_ARIMA], axis=1)\n",
    "merged_df"
   ]
  },
  {
   "cell_type": "code",
   "execution_count": 192,
   "id": "54e3282d",
   "metadata": {},
   "outputs": [],
   "source": [
    "# Save the DataFrame as a CSV file\n",
    "merged_df.to_csv('merged_df.csv', index=False)\n"
   ]
  },
  {
   "cell_type": "code",
   "execution_count": 193,
   "id": "cf8ba543",
   "metadata": {},
   "outputs": [
    {
     "data": {
      "image/png": "[encoded data removed]",
      "text/plain": [
       "<Figure size 1400x700 with 1 Axes>"
      ]
     },
     "metadata": {},
     "output_type": "display_data"
    }
   ],
   "source": [
    "import matplotlib.pyplot as plt\n",
    "\n",
    "# Create the figure and axis objects\n",
    "fig, ax = plt.subplots()\n",
    "\n",
    "# Plot the data on the axis, with different colors for each line\n",
    "ax.plot(merged_df.index, merged_df['Forecasted deaths'], color='blue', label='Forecasted maternal deaths')\n",
    "ax.plot(merged_df.index, merged_df.deaths, color='green', label='Actual maternal deaths')\n",
    "\n",
    "# Add a legend to the plot\n",
    "ax.legend()\n",
    "\n",
    "# Set the title and axis labels\n",
    "ax.set_title('Actual value along with Forecasted value using ARIMA')\n",
    "ax.set_xlabel('Month/Year')\n",
    "ax.set_ylabel('Deaths')\n",
    "\n",
    "# Display the plot\n",
    "plt.show()\n"
   ]
  },
  {
   "cell_type": "code",
   "execution_count": 194,
   "id": "important-winning",
   "metadata": {
    "execution": {
     "iopub.execute_input": "2021-07-29T13:57:31.343012Z",
     "iopub.status.busy": "2021-07-29T13:57:31.342093Z",
     "iopub.status.idle": "2021-07-29T13:57:31.562913Z",
     "shell.execute_reply": "2021-07-29T13:57:31.562266Z",
     "shell.execute_reply.started": "2021-07-29T13:25:04.631946Z"
    },
    "papermill": {
     "duration": 0.447557,
     "end_time": "2021-07-29T13:57:31.563098",
     "exception": false,
     "start_time": "2021-07-29T13:57:31.115541",
     "status": "completed"
    },
    "tags": []
   },
   "outputs": [
    {
     "data": {
      "image/png": "[encoded data removed]",
      "text/plain": [
       "<Figure size 1400x700 with 1 Axes>"
      ]
     },
     "metadata": {},
     "output_type": "display_data"
    }
   ],
   "source": [
    "# plotting fitted model\n",
    "plt.style.use('ggplot')\n",
    "plt.plot(train_data_endog, color='b', label='Original')\n",
    "plt.plot(test_data.predicted_deaths, color='r', label='Model')\n",
    "plt.ylabel('Maternal Deaths', fontsize=14, fontfamily='serif')\n",
    "plt.xlabel('Period', fontsize=14, fontfamily='serif')\n",
    "plt.xticks(rotation=45)\n",
    "\n",
    "plt.annotate('Annotate', xy=(3, 9), xytext=(4, 16), fontsize=12,\n",
    "             arrowprops=dict(facecolor='black', arrowstyle='->'))\n",
    "plt.tight_layout()\n",
    "plt.legend(loc='best')\n",
    "plt.show(block=False)"
   ]
  },
  {
   "cell_type": "code",
   "execution_count": 195,
   "id": "61d1fca0",
   "metadata": {},
   "outputs": [
    {
     "data": {
      "text/plain": [
       "month\n",
       "2022-07-01     86\n",
       "2022-08-01    117\n",
       "2022-09-01     83\n",
       "2022-10-01     99\n",
       "2022-11-01     87\n",
       "2022-12-01    101\n",
       "Name: deaths, dtype: int64"
      ]
     },
     "execution_count": 195,
     "metadata": {},
     "output_type": "execute_result"
    }
   ],
   "source": [
    "test_data_endog.deaths[2:]"
   ]
  },
  {
   "cell_type": "code",
   "execution_count": 196,
   "id": "f4508678",
   "metadata": {},
   "outputs": [
    {
     "data": {
      "text/html": [
       "<div>\n",
       "<style scoped>\n",
       "    .dataframe tbody tr th:only-of-type {\n",
       "        vertical-align: middle;\n",
       "    }\n",
       "\n",
       "    .dataframe tbody tr th {\n",
       "        vertical-align: top;\n",
       "    }\n",
       "\n",
       "    .dataframe thead th {\n",
       "        text-align: right;\n",
       "    }\n",
       "</style>\n",
       "<table border=\"1\" class=\"dataframe\">\n",
       "  <thead>\n",
       "    <tr style=\"text-align: right;\">\n",
       "      <th></th>\n",
       "      <th>deaths</th>\n",
       "      <th>predicted_deaths</th>\n",
       "    </tr>\n",
       "    <tr>\n",
       "      <th>month</th>\n",
       "      <th></th>\n",
       "      <th></th>\n",
       "    </tr>\n",
       "  </thead>\n",
       "  <tbody>\n",
       "    <tr>\n",
       "      <th>2022-07-01</th>\n",
       "      <td>86</td>\n",
       "      <td>94.292650</td>\n",
       "    </tr>\n",
       "    <tr>\n",
       "      <th>2022-08-01</th>\n",
       "      <td>117</td>\n",
       "      <td>96.612534</td>\n",
       "    </tr>\n",
       "    <tr>\n",
       "      <th>2022-09-01</th>\n",
       "      <td>83</td>\n",
       "      <td>95.242190</td>\n",
       "    </tr>\n",
       "    <tr>\n",
       "      <th>2022-10-01</th>\n",
       "      <td>99</td>\n",
       "      <td>92.274921</td>\n",
       "    </tr>\n",
       "    <tr>\n",
       "      <th>2022-11-01</th>\n",
       "      <td>87</td>\n",
       "      <td>91.486780</td>\n",
       "    </tr>\n",
       "    <tr>\n",
       "      <th>2022-12-01</th>\n",
       "      <td>101</td>\n",
       "      <td>88.402172</td>\n",
       "    </tr>\n",
       "  </tbody>\n",
       "</table>\n",
       "</div>"
      ],
      "text/plain": [
       "            deaths  predicted_deaths\n",
       "month                               \n",
       "2022-07-01      86         94.292650\n",
       "2022-08-01     117         96.612534\n",
       "2022-09-01      83         95.242190\n",
       "2022-10-01      99         92.274921\n",
       "2022-11-01      87         91.486780\n",
       "2022-12-01     101         88.402172"
      ]
     },
     "execution_count": 196,
     "metadata": {},
     "output_type": "execute_result"
    }
   ],
   "source": [
    "test_data"
   ]
  },
  {
   "cell_type": "raw",
   "id": "1bbaa831",
   "metadata": {},
   "source": [
    "# Calculate evaluation metrics\n",
    "from sklearn.metrics import mean_squared_error, mean_absolute_error, r2_score\n",
    "mse = mean_squared_error(test_data_endog.deaths[2:], test_data['predicted_deaths'])\n",
    "mae = mean_absolute_error(test_data_endog.deaths[2:], test_data['predicted_deaths'])\n",
    "rmse = np.sqrt(mse)\n",
    "r2 = r2_score(test_data_endog.deaths[2:], test_data['predicted_deaths'])\n",
    "\n",
    "# Print the evaluation metrics\n",
    "print(\"Mean Squared Error (MSE):\", mse)\n",
    "print(\"Root Mean Squared Error (RMSE):\", rmse)\n",
    "print(\"Mean Absolute Error (MAE):\", mae)\n",
    "print(\"R-squared (R2) Score:\", r2)"
   ]
  },
  {
   "cell_type": "code",
   "execution_count": 198,
   "id": "5d533025",
   "metadata": {},
   "outputs": [
    {
     "name": "stdout",
     "output_type": "stream",
     "text": [
      "Mean Squared Error:  143.05853355702442\n",
      "Mean Absolute Error:  10.788665619610144\n",
      "Root Mean Squared Error:  11.960707903674615\n",
      "MAPE: 0.11040125419991025\n"
     ]
    }
   ],
   "source": [
    "# evaluate model performance\n",
    "mse = np.mean((test_data_endog['deaths'] - test_data['predicted_deaths'])**2)\n",
    "mae = np.mean(abs(test_data_endog['deaths'] - test_data['predicted_deaths']))\n",
    "rmse = np.sqrt(mse)\n",
    "mape = np.mean(np.abs(test_data['predicted_deaths'] - test_data_endog['deaths'])/np.abs(test_data_endog['deaths']))\n",
    "\n",
    "print('Mean Squared Error: ', mse)\n",
    "print('Mean Absolute Error: ', mae)\n",
    "print('Root Mean Squared Error: ', rmse)\n",
    "print('MAPE: '+str(mape))"
   ]
  },
  {
   "cell_type": "code",
   "execution_count": 199,
   "id": "strong-threshold",
   "metadata": {
    "execution": {
     "iopub.execute_input": "2021-07-29T13:57:32.344835Z",
     "iopub.status.busy": "2021-07-29T13:57:32.343885Z",
     "iopub.status.idle": "2021-07-29T13:57:32.347499Z",
     "shell.execute_reply": "2021-07-29T13:57:32.348114Z",
     "shell.execute_reply.started": "2021-07-29T13:26:25.823200Z"
    },
    "papermill": {
     "duration": 0.074814,
     "end_time": "2021-07-29T13:57:32.348353",
     "exception": false,
     "start_time": "2021-07-29T13:57:32.273539",
     "status": "completed"
    },
    "tags": []
   },
   "outputs": [
    {
     "data": {
      "text/plain": [
       "<PandasArray>\n",
       "[94.29264966413668, 96.61253350932822, 95.24218978211205, 92.27492069138133,\n",
       " 91.48678039255617, 88.40217192043448]\n",
       "Length: 6, dtype: float64"
      ]
     },
     "execution_count": 199,
     "metadata": {},
     "output_type": "execute_result"
    }
   ],
   "source": [
    "# forecast values for next 6 months\n",
    "fc=results_ARIMA.forecast(steps=6, exog = movingAverages_T_exog)\n",
    "forecast = pd.array(fc)\n",
    "forecast"
   ]
  },
  {
   "cell_type": "code",
   "execution_count": 200,
   "id": "70ef9af5",
   "metadata": {},
   "outputs": [
    {
     "data": {
      "text/html": [
       "<table class=\"simpletable\">\n",
       "<caption>SARIMAX Results</caption>\n",
       "<tr>\n",
       "  <th>Dep. Variable:</th>        <td>deaths</td>      <th>  No. Observations:  </th>   <td>22</td>   \n",
       "</tr>\n",
       "<tr>\n",
       "  <th>Model:</th>                 <td>ARIMA</td>      <th>  Log Likelihood     </th> <td>-91.487</td>\n",
       "</tr>\n",
       "<tr>\n",
       "  <th>Date:</th>            <td>Wed, 05 Apr 2023</td> <th>  AIC                </th> <td>200.974</td>\n",
       "</tr>\n",
       "<tr>\n",
       "  <th>Time:</th>                <td>22:06:14</td>     <th>  BIC                </th> <td>210.793</td>\n",
       "</tr>\n",
       "<tr>\n",
       "  <th>Sample:</th>             <td>03-01-2021</td>    <th>  HQIC               </th> <td>203.287</td>\n",
       "</tr>\n",
       "<tr>\n",
       "  <th></th>                   <td>- 12-01-2022</td>   <th>                     </th>    <td> </td>   \n",
       "</tr>\n",
       "<tr>\n",
       "  <th>Covariance Type:</th>        <td>opg</td>       <th>                     </th>    <td> </td>   \n",
       "</tr>\n",
       "</table>\n",
       "<table class=\"simpletable\">\n",
       "<tr>\n",
       "             <td></td>               <th>coef</th>     <th>std err</th>      <th>z</th>      <th>P>|z|</th>  <th>[0.025</th>    <th>0.975]</th>  \n",
       "</tr>\n",
       "<tr>\n",
       "  <th>const</th>                  <td>  149.9852</td> <td> 1781.633</td> <td>    0.084</td> <td> 0.933</td> <td>-3341.951</td> <td> 3641.921</td>\n",
       "</tr>\n",
       "<tr>\n",
       "  <th>Admissions</th>             <td>    0.0081</td> <td>    0.084</td> <td>    0.097</td> <td> 0.923</td> <td>   -0.157</td> <td>    0.173</td>\n",
       "</tr>\n",
       "<tr>\n",
       "  <th>HIVPositive_deliveries</th> <td>   -0.0120</td> <td>    0.165</td> <td>   -0.072</td> <td> 0.942</td> <td>   -0.336</td> <td>    0.312</td>\n",
       "</tr>\n",
       "<tr>\n",
       "  <th>Othercauses_Abortions</th>  <td>    0.0011</td> <td>    0.026</td> <td>    0.043</td> <td> 0.965</td> <td>   -0.049</td> <td>    0.052</td>\n",
       "</tr>\n",
       "<tr>\n",
       "  <th>GBV_Abortions</th>          <td>   -0.0782</td> <td>    1.134</td> <td>   -0.069</td> <td> 0.945</td> <td>   -2.300</td> <td>    2.144</td>\n",
       "</tr>\n",
       "<tr>\n",
       "  <th>malaria</th>                <td>    0.0014</td> <td>    0.011</td> <td>    0.129</td> <td> 0.897</td> <td>   -0.021</td> <td>    0.023</td>\n",
       "</tr>\n",
       "<tr>\n",
       "  <th>maternal_nutrition</th>     <td>   -0.0012</td> <td>    0.018</td> <td>   -0.069</td> <td> 0.945</td> <td>   -0.036</td> <td>    0.034</td>\n",
       "</tr>\n",
       "<tr>\n",
       "  <th>blood_pressure</th>         <td>   -0.0087</td> <td>    0.243</td> <td>   -0.036</td> <td> 0.971</td> <td>   -0.485</td> <td>    0.467</td>\n",
       "</tr>\n",
       "<tr>\n",
       "  <th>sigma2</th>                 <td>  622.4459</td> <td>  277.825</td> <td>    2.240</td> <td> 0.025</td> <td>   77.919</td> <td> 1166.973</td>\n",
       "</tr>\n",
       "</table>\n",
       "<table class=\"simpletable\">\n",
       "<tr>\n",
       "  <th>Ljung-Box (L1) (Q):</th>     <td>1.03</td> <th>  Jarque-Bera (JB):  </th> <td>1.21</td> \n",
       "</tr>\n",
       "<tr>\n",
       "  <th>Prob(Q):</th>                <td>0.31</td> <th>  Prob(JB):          </th> <td>0.55</td> \n",
       "</tr>\n",
       "<tr>\n",
       "  <th>Heteroskedasticity (H):</th> <td>0.74</td> <th>  Skew:              </th> <td>-0.13</td>\n",
       "</tr>\n",
       "<tr>\n",
       "  <th>Prob(H) (two-sided):</th>    <td>0.71</td> <th>  Kurtosis:          </th> <td>1.88</td> \n",
       "</tr>\n",
       "</table><br/><br/>Warnings:<br/>[1] Covariance matrix calculated using the outer product of gradients (complex-step)."
      ],
      "text/plain": [
       "<class 'statsmodels.iolib.summary.Summary'>\n",
       "\"\"\"\n",
       "                               SARIMAX Results                                \n",
       "==============================================================================\n",
       "Dep. Variable:                 deaths   No. Observations:                   22\n",
       "Model:                          ARIMA   Log Likelihood                 -91.487\n",
       "Date:                Wed, 05 Apr 2023   AIC                            200.974\n",
       "Time:                        22:06:14   BIC                            210.793\n",
       "Sample:                    03-01-2021   HQIC                           203.287\n",
       "                         - 12-01-2022                                         \n",
       "Covariance Type:                  opg                                         \n",
       "==========================================================================================\n",
       "                             coef    std err          z      P>|z|      [0.025      0.975]\n",
       "------------------------------------------------------------------------------------------\n",
       "const                    149.9852   1781.633      0.084      0.933   -3341.951    3641.921\n",
       "Admissions                 0.0081      0.084      0.097      0.923      -0.157       0.173\n",
       "HIVPositive_deliveries    -0.0120      0.165     -0.072      0.942      -0.336       0.312\n",
       "Othercauses_Abortions      0.0011      0.026      0.043      0.965      -0.049       0.052\n",
       "GBV_Abortions             -0.0782      1.134     -0.069      0.945      -2.300       2.144\n",
       "malaria                    0.0014      0.011      0.129      0.897      -0.021       0.023\n",
       "maternal_nutrition        -0.0012      0.018     -0.069      0.945      -0.036       0.034\n",
       "blood_pressure            -0.0087      0.243     -0.036      0.971      -0.485       0.467\n",
       "sigma2                   622.4459    277.825      2.240      0.025      77.919    1166.973\n",
       "===================================================================================\n",
       "Ljung-Box (L1) (Q):                   1.03   Jarque-Bera (JB):                 1.21\n",
       "Prob(Q):                              0.31   Prob(JB):                         0.55\n",
       "Heteroskedasticity (H):               0.74   Skew:                            -0.13\n",
       "Prob(H) (two-sided):                  0.71   Kurtosis:                         1.88\n",
       "===================================================================================\n",
       "\n",
       "Warnings:\n",
       "[1] Covariance matrix calculated using the outer product of gradients (complex-step).\n",
       "\"\"\""
      ]
     },
     "execution_count": 200,
     "metadata": {},
     "output_type": "execute_result"
    }
   ],
   "source": [
    "Data = results_ARIMA.summary()\n",
    "Data"
   ]
  },
  {
   "cell_type": "markdown",
   "id": "starting-saying",
   "metadata": {
    "papermill": {
     "duration": 0.064641,
     "end_time": "2021-07-29T13:57:33.460088",
     "exception": false,
     "start_time": "2021-07-29T13:57:33.395447",
     "status": "completed"
    },
    "tags": []
   },
   "source": [
    "## **Thank You**\n",
    "## **Adrian Kasito**"
   ]
  }
 ],
 "metadata": {
  "kernelspec": {
   "display_name": "Python 3 (ipykernel)",
   "language": "python",
   "name": "python3"
  },
  "language_info": {
   "codemirror_mode": {
    "name": "ipython",
    "version": 3
   },
   "file_extension": ".py",
   "mimetype": "text/x-python",
   "name": "python",
   "nbconvert_exporter": "python",
   "pygments_lexer": "ipython3",
   "version": "3.9.16"
  },
  "papermill": {
   "default_parameters": {},
   "duration": 22.973842,
   "end_time": "2021-07-29T13:57:35.361342",
   "environment_variables": {},
   "exception": null,
   "input_path": "__notebook__.ipynb",
   "output_path": "__notebook__.ipynb",
   "parameters": {},
   "start_time": "2021-07-29T13:57:12.387500",
   "version": "2.3.3"
  }
 },
 "nbformat": 4,
 "nbformat_minor": 5
}
